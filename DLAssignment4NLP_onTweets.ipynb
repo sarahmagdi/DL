{
  "nbformat": 4,
  "nbformat_minor": 0,
  "metadata": {
    "colab": {
      "name": "DLAssignment4NLP_onTweets.ipynb",
      "provenance": [],
      "mount_file_id": "1JetgAmFVkKQ4YWgaiH-_XP6XGu7FFuaN",
      "authorship_tag": "ABX9TyOxpKF4/+M8v+InBCuGJDLw",
      "include_colab_link": true
    },
    "kernelspec": {
      "name": "python3",
      "display_name": "Python 3"
    },
    "language_info": {
      "name": "python"
    }
  },
  "cells": [
    {
      "cell_type": "markdown",
      "metadata": {
        "id": "view-in-github",
        "colab_type": "text"
      },
      "source": [
        "<a href=\"https://colab.research.google.com/github/sarahmagdi/ITI_DL/blob/main/DLAssignment4NLP_onTweets.ipynb\" target=\"_parent\"><img src=\"https://colab.research.google.com/assets/colab-badge.svg\" alt=\"Open In Colab\"/></a>"
      ]
    },
    {
      "cell_type": "code",
      "execution_count": 1,
      "metadata": {
        "colab": {
          "base_uri": "https://localhost:8080/"
        },
        "id": "vv3MUhfjamJC",
        "outputId": "a2c0cb1f-f500-4b3c-84a5-f8ac6d5ef965"
      },
      "outputs": [
        {
          "output_type": "stream",
          "name": "stderr",
          "text": [
            "[nltk_data] Downloading package punkt to /root/nltk_data...\n",
            "[nltk_data]   Unzipping tokenizers/punkt.zip.\n",
            "[nltk_data] Downloading package stopwords to /root/nltk_data...\n",
            "[nltk_data]   Unzipping corpora/stopwords.zip.\n",
            "[nltk_data] Downloading package wordnet to /root/nltk_data...\n",
            "[nltk_data]   Unzipping corpora/wordnet.zip.\n"
          ]
        }
      ],
      "source": [
        "from keras.datasets import imdb\n",
        "from keras.preprocessing.text import text_to_word_sequence\n",
        "from keras.preprocessing.text import Tokenizer  \n",
        "from keras.preprocessing.sequence import pad_sequences\n",
        "from keras import models\n",
        "from keras import layers\n",
        "from keras import losses\n",
        "from keras import metrics\n",
        "from keras import optimizers\n",
        "from keras.utils.vis_utils import plot_model\n",
        "\n",
        "import numpy as np\n",
        "import matplotlib.pyplot as plt\n",
        "\n",
        "from sklearn.feature_extraction.text import CountVectorizer\n",
        "from sklearn.feature_extraction.text import TfidfVectorizer\n",
        "from sklearn.model_selection import train_test_split\n",
        "\n",
        "from collections import Counter\n",
        "from pathlib import Path\n",
        "import os\n",
        "import numpy as np\n",
        "import re\n",
        "import string\n",
        "import nltk\n",
        "nltk.download('punkt')\n",
        "from nltk.tokenize import word_tokenize\n",
        "from nltk.corpus import stopwords\n",
        "nltk.download('stopwords')\n",
        "from nltk.stem.porter import PorterStemmer\n",
        "from nltk.stem import WordNetLemmatizer\n",
        "nltk.download('wordnet')\n",
        "from nltk.corpus import wordnet\n",
        "import unicodedata\n",
        "import html\n",
        "stop_words = stopwords.words('english')"
      ]
    },
    {
      "cell_type": "code",
      "source": [
        "nltk.download('omw-1.4')"
      ],
      "metadata": {
        "colab": {
          "base_uri": "https://localhost:8080/"
        },
        "id": "ykKLYholaq8L",
        "outputId": "eead1c81-60cf-47b2-ca3a-f5d8a9706913"
      },
      "execution_count": 2,
      "outputs": [
        {
          "output_type": "stream",
          "name": "stderr",
          "text": [
            "[nltk_data] Downloading package omw-1.4 to /root/nltk_data...\n",
            "[nltk_data]   Unzipping corpora/omw-1.4.zip.\n"
          ]
        },
        {
          "output_type": "execute_result",
          "data": {
            "text/plain": [
              "True"
            ]
          },
          "metadata": {},
          "execution_count": 2
        }
      ]
    },
    {
      "cell_type": "code",
      "source": [
        "import numpy as np\n",
        "import pandas as pd\n",
        "import seaborn as sns\n",
        "import matplotlib.pyplot as plt\n",
        "#import scattertext as st\n",
        "import plotly.graph_objects as go\n",
        "from plotly.offline import plot\n",
        "#from imread import imread, imsave\n",
        "from sklearn.decomposition import LatentDirichletAllocation\n",
        "from sklearn.feature_extraction.text import TfidfVectorizer\n",
        "from wordcloud import WordCloud, STOPWORDS\n",
        "from IPython.display import IFrame\n",
        "import os, pkgutil, json, urllib\n",
        "from urllib.request import urlopen\n",
        "from IPython.core.display import display, HTML\n",
        "#from scattertext import CorpusFromPandas, produce_scattertext_explorer\n",
        "from IPython.display import IFrame\n",
        "from sklearn.svm import LinearSVC\n",
        "\n",
        "import gc\n",
        "import re\n",
        "import string\n",
        "import operator\n",
        "from collections import defaultdict\n",
        "\n",
        "import numpy as np\n",
        "import pandas as pd\n",
        "pd.set_option('display.max_rows', 500)\n",
        "pd.set_option('display.max_columns', 500)\n",
        "pd.set_option('display.width', 1000)\n",
        "\n",
        "#import tokenization\n",
        "from sklearn.feature_extraction.text import TfidfVectorizer\n",
        "from sklearn import model_selection, naive_bayes, svm\n",
        "from sklearn.model_selection import train_test_split\n",
        "from sklearn.metrics import accuracy_score, classification_report, confusion_matrix\n",
        "display(HTML(\"<style>.container { width:98% !important; }</style>\"))\n",
        "\n",
        "from sklearn.model_selection import StratifiedKFold, StratifiedShuffleSplit\n",
        "from sklearn.metrics import precision_score, recall_score, f1_score\n",
        "\n",
        "import tensorflow as tf\n",
        "import tensorflow_hub as hub\n",
        "SEED = 1337"
      ],
      "metadata": {
        "colab": {
          "base_uri": "https://localhost:8080/",
          "height": 17
        },
        "id": "zTiGf3OFa0Wb",
        "outputId": "3fc6f3a7-fb0b-4093-da7b-fe7bdf290ef8"
      },
      "execution_count": 4,
      "outputs": [
        {
          "output_type": "display_data",
          "data": {
            "text/plain": [
              "<IPython.core.display.HTML object>"
            ],
            "text/html": [
              "<style>.container { width:98% !important; }</style>"
            ]
          },
          "metadata": {}
        }
      ]
    },
    {
      "cell_type": "code",
      "source": [
        "disaster_tweets_train = pd.read_csv(\"/content/drive/MyDrive/DL/DisasterTweets/train.csv\",  dtype={'id': np.int16, 'target': np.int8})\n",
        "disaster_tweets_test = pd.read_csv(\"/content/drive/MyDrive/DL/DisasterTweets/train.csv\",dtype={'id': np.int16})"
      ],
      "metadata": {
        "id": "aBgWtX2HarwN"
      },
      "execution_count": 50,
      "outputs": []
    },
    {
      "cell_type": "code",
      "source": [
        "disaster_tweets_train.head(5)"
      ],
      "metadata": {
        "colab": {
          "base_uri": "https://localhost:8080/",
          "height": 206
        },
        "id": "6YlthxlFbVnO",
        "outputId": "e59ed442-8e2e-4a6d-ea9d-beaa60d1bf9b"
      },
      "execution_count": 7,
      "outputs": [
        {
          "output_type": "execute_result",
          "data": {
            "text/plain": [
              "   id keyword location                                               text  target\n",
              "0   1     NaN      NaN  Our Deeds are the Reason of this #earthquake M...       1\n",
              "1   4     NaN      NaN             Forest fire near La Ronge Sask. Canada       1\n",
              "2   5     NaN      NaN  All residents asked to 'shelter in place' are ...       1\n",
              "3   6     NaN      NaN  13,000 people receive #wildfires evacuation or...       1\n",
              "4   7     NaN      NaN  Just got sent this photo from Ruby #Alaska as ...       1"
            ],
            "text/html": [
              "\n",
              "  <div id=\"df-6ffc1e35-1f82-4c19-a7f4-7a86d971e33e\">\n",
              "    <div class=\"colab-df-container\">\n",
              "      <div>\n",
              "<style scoped>\n",
              "    .dataframe tbody tr th:only-of-type {\n",
              "        vertical-align: middle;\n",
              "    }\n",
              "\n",
              "    .dataframe tbody tr th {\n",
              "        vertical-align: top;\n",
              "    }\n",
              "\n",
              "    .dataframe thead th {\n",
              "        text-align: right;\n",
              "    }\n",
              "</style>\n",
              "<table border=\"1\" class=\"dataframe\">\n",
              "  <thead>\n",
              "    <tr style=\"text-align: right;\">\n",
              "      <th></th>\n",
              "      <th>id</th>\n",
              "      <th>keyword</th>\n",
              "      <th>location</th>\n",
              "      <th>text</th>\n",
              "      <th>target</th>\n",
              "    </tr>\n",
              "  </thead>\n",
              "  <tbody>\n",
              "    <tr>\n",
              "      <th>0</th>\n",
              "      <td>1</td>\n",
              "      <td>NaN</td>\n",
              "      <td>NaN</td>\n",
              "      <td>Our Deeds are the Reason of this #earthquake M...</td>\n",
              "      <td>1</td>\n",
              "    </tr>\n",
              "    <tr>\n",
              "      <th>1</th>\n",
              "      <td>4</td>\n",
              "      <td>NaN</td>\n",
              "      <td>NaN</td>\n",
              "      <td>Forest fire near La Ronge Sask. Canada</td>\n",
              "      <td>1</td>\n",
              "    </tr>\n",
              "    <tr>\n",
              "      <th>2</th>\n",
              "      <td>5</td>\n",
              "      <td>NaN</td>\n",
              "      <td>NaN</td>\n",
              "      <td>All residents asked to 'shelter in place' are ...</td>\n",
              "      <td>1</td>\n",
              "    </tr>\n",
              "    <tr>\n",
              "      <th>3</th>\n",
              "      <td>6</td>\n",
              "      <td>NaN</td>\n",
              "      <td>NaN</td>\n",
              "      <td>13,000 people receive #wildfires evacuation or...</td>\n",
              "      <td>1</td>\n",
              "    </tr>\n",
              "    <tr>\n",
              "      <th>4</th>\n",
              "      <td>7</td>\n",
              "      <td>NaN</td>\n",
              "      <td>NaN</td>\n",
              "      <td>Just got sent this photo from Ruby #Alaska as ...</td>\n",
              "      <td>1</td>\n",
              "    </tr>\n",
              "  </tbody>\n",
              "</table>\n",
              "</div>\n",
              "      <button class=\"colab-df-convert\" onclick=\"convertToInteractive('df-6ffc1e35-1f82-4c19-a7f4-7a86d971e33e')\"\n",
              "              title=\"Convert this dataframe to an interactive table.\"\n",
              "              style=\"display:none;\">\n",
              "        \n",
              "  <svg xmlns=\"http://www.w3.org/2000/svg\" height=\"24px\"viewBox=\"0 0 24 24\"\n",
              "       width=\"24px\">\n",
              "    <path d=\"M0 0h24v24H0V0z\" fill=\"none\"/>\n",
              "    <path d=\"M18.56 5.44l.94 2.06.94-2.06 2.06-.94-2.06-.94-.94-2.06-.94 2.06-2.06.94zm-11 1L8.5 8.5l.94-2.06 2.06-.94-2.06-.94L8.5 2.5l-.94 2.06-2.06.94zm10 10l.94 2.06.94-2.06 2.06-.94-2.06-.94-.94-2.06-.94 2.06-2.06.94z\"/><path d=\"M17.41 7.96l-1.37-1.37c-.4-.4-.92-.59-1.43-.59-.52 0-1.04.2-1.43.59L10.3 9.45l-7.72 7.72c-.78.78-.78 2.05 0 2.83L4 21.41c.39.39.9.59 1.41.59.51 0 1.02-.2 1.41-.59l7.78-7.78 2.81-2.81c.8-.78.8-2.07 0-2.86zM5.41 20L4 18.59l7.72-7.72 1.47 1.35L5.41 20z\"/>\n",
              "  </svg>\n",
              "      </button>\n",
              "      \n",
              "  <style>\n",
              "    .colab-df-container {\n",
              "      display:flex;\n",
              "      flex-wrap:wrap;\n",
              "      gap: 12px;\n",
              "    }\n",
              "\n",
              "    .colab-df-convert {\n",
              "      background-color: #E8F0FE;\n",
              "      border: none;\n",
              "      border-radius: 50%;\n",
              "      cursor: pointer;\n",
              "      display: none;\n",
              "      fill: #1967D2;\n",
              "      height: 32px;\n",
              "      padding: 0 0 0 0;\n",
              "      width: 32px;\n",
              "    }\n",
              "\n",
              "    .colab-df-convert:hover {\n",
              "      background-color: #E2EBFA;\n",
              "      box-shadow: 0px 1px 2px rgba(60, 64, 67, 0.3), 0px 1px 3px 1px rgba(60, 64, 67, 0.15);\n",
              "      fill: #174EA6;\n",
              "    }\n",
              "\n",
              "    [theme=dark] .colab-df-convert {\n",
              "      background-color: #3B4455;\n",
              "      fill: #D2E3FC;\n",
              "    }\n",
              "\n",
              "    [theme=dark] .colab-df-convert:hover {\n",
              "      background-color: #434B5C;\n",
              "      box-shadow: 0px 1px 3px 1px rgba(0, 0, 0, 0.15);\n",
              "      filter: drop-shadow(0px 1px 2px rgba(0, 0, 0, 0.3));\n",
              "      fill: #FFFFFF;\n",
              "    }\n",
              "  </style>\n",
              "\n",
              "      <script>\n",
              "        const buttonEl =\n",
              "          document.querySelector('#df-6ffc1e35-1f82-4c19-a7f4-7a86d971e33e button.colab-df-convert');\n",
              "        buttonEl.style.display =\n",
              "          google.colab.kernel.accessAllowed ? 'block' : 'none';\n",
              "\n",
              "        async function convertToInteractive(key) {\n",
              "          const element = document.querySelector('#df-6ffc1e35-1f82-4c19-a7f4-7a86d971e33e');\n",
              "          const dataTable =\n",
              "            await google.colab.kernel.invokeFunction('convertToInteractive',\n",
              "                                                     [key], {});\n",
              "          if (!dataTable) return;\n",
              "\n",
              "          const docLinkHtml = 'Like what you see? Visit the ' +\n",
              "            '<a target=\"_blank\" href=https://colab.research.google.com/notebooks/data_table.ipynb>data table notebook</a>'\n",
              "            + ' to learn more about interactive tables.';\n",
              "          element.innerHTML = '';\n",
              "          dataTable['output_type'] = 'display_data';\n",
              "          await google.colab.output.renderOutput(dataTable, element);\n",
              "          const docLink = document.createElement('div');\n",
              "          docLink.innerHTML = docLinkHtml;\n",
              "          element.appendChild(docLink);\n",
              "        }\n",
              "      </script>\n",
              "    </div>\n",
              "  </div>\n",
              "  "
            ]
          },
          "metadata": {},
          "execution_count": 7
        }
      ]
    },
    {
      "cell_type": "code",
      "source": [
        "disaster_tweets_test"
      ],
      "metadata": {
        "colab": {
          "base_uri": "https://localhost:8080/",
          "height": 424
        },
        "id": "iH7s_DyDbYT5",
        "outputId": "5309a91d-0658-409d-cfe8-400a28608d02"
      },
      "execution_count": 8,
      "outputs": [
        {
          "output_type": "execute_result",
          "data": {
            "text/plain": [
              "         id keyword location                                               text  target\n",
              "0         1     NaN      NaN  Our Deeds are the Reason of this #earthquake M...       1\n",
              "1         4     NaN      NaN             Forest fire near La Ronge Sask. Canada       1\n",
              "2         5     NaN      NaN  All residents asked to 'shelter in place' are ...       1\n",
              "3         6     NaN      NaN  13,000 people receive #wildfires evacuation or...       1\n",
              "4         7     NaN      NaN  Just got sent this photo from Ruby #Alaska as ...       1\n",
              "...     ...     ...      ...                                                ...     ...\n",
              "7608  10869     NaN      NaN  Two giant cranes holding a bridge collapse int...       1\n",
              "7609  10870     NaN      NaN  @aria_ahrary @TheTawniest The out of control w...       1\n",
              "7610  10871     NaN      NaN  M1.94 [01:04 UTC]?5km S of Volcano Hawaii. htt...       1\n",
              "7611  10872     NaN      NaN  Police investigating after an e-bike collided ...       1\n",
              "7612  10873     NaN      NaN  The Latest: More Homes Razed by Northern Calif...       1\n",
              "\n",
              "[7613 rows x 5 columns]"
            ],
            "text/html": [
              "\n",
              "  <div id=\"df-0a796d78-5e52-4ca2-82b0-aace567acf68\">\n",
              "    <div class=\"colab-df-container\">\n",
              "      <div>\n",
              "<style scoped>\n",
              "    .dataframe tbody tr th:only-of-type {\n",
              "        vertical-align: middle;\n",
              "    }\n",
              "\n",
              "    .dataframe tbody tr th {\n",
              "        vertical-align: top;\n",
              "    }\n",
              "\n",
              "    .dataframe thead th {\n",
              "        text-align: right;\n",
              "    }\n",
              "</style>\n",
              "<table border=\"1\" class=\"dataframe\">\n",
              "  <thead>\n",
              "    <tr style=\"text-align: right;\">\n",
              "      <th></th>\n",
              "      <th>id</th>\n",
              "      <th>keyword</th>\n",
              "      <th>location</th>\n",
              "      <th>text</th>\n",
              "      <th>target</th>\n",
              "    </tr>\n",
              "  </thead>\n",
              "  <tbody>\n",
              "    <tr>\n",
              "      <th>0</th>\n",
              "      <td>1</td>\n",
              "      <td>NaN</td>\n",
              "      <td>NaN</td>\n",
              "      <td>Our Deeds are the Reason of this #earthquake M...</td>\n",
              "      <td>1</td>\n",
              "    </tr>\n",
              "    <tr>\n",
              "      <th>1</th>\n",
              "      <td>4</td>\n",
              "      <td>NaN</td>\n",
              "      <td>NaN</td>\n",
              "      <td>Forest fire near La Ronge Sask. Canada</td>\n",
              "      <td>1</td>\n",
              "    </tr>\n",
              "    <tr>\n",
              "      <th>2</th>\n",
              "      <td>5</td>\n",
              "      <td>NaN</td>\n",
              "      <td>NaN</td>\n",
              "      <td>All residents asked to 'shelter in place' are ...</td>\n",
              "      <td>1</td>\n",
              "    </tr>\n",
              "    <tr>\n",
              "      <th>3</th>\n",
              "      <td>6</td>\n",
              "      <td>NaN</td>\n",
              "      <td>NaN</td>\n",
              "      <td>13,000 people receive #wildfires evacuation or...</td>\n",
              "      <td>1</td>\n",
              "    </tr>\n",
              "    <tr>\n",
              "      <th>4</th>\n",
              "      <td>7</td>\n",
              "      <td>NaN</td>\n",
              "      <td>NaN</td>\n",
              "      <td>Just got sent this photo from Ruby #Alaska as ...</td>\n",
              "      <td>1</td>\n",
              "    </tr>\n",
              "    <tr>\n",
              "      <th>...</th>\n",
              "      <td>...</td>\n",
              "      <td>...</td>\n",
              "      <td>...</td>\n",
              "      <td>...</td>\n",
              "      <td>...</td>\n",
              "    </tr>\n",
              "    <tr>\n",
              "      <th>7608</th>\n",
              "      <td>10869</td>\n",
              "      <td>NaN</td>\n",
              "      <td>NaN</td>\n",
              "      <td>Two giant cranes holding a bridge collapse int...</td>\n",
              "      <td>1</td>\n",
              "    </tr>\n",
              "    <tr>\n",
              "      <th>7609</th>\n",
              "      <td>10870</td>\n",
              "      <td>NaN</td>\n",
              "      <td>NaN</td>\n",
              "      <td>@aria_ahrary @TheTawniest The out of control w...</td>\n",
              "      <td>1</td>\n",
              "    </tr>\n",
              "    <tr>\n",
              "      <th>7610</th>\n",
              "      <td>10871</td>\n",
              "      <td>NaN</td>\n",
              "      <td>NaN</td>\n",
              "      <td>M1.94 [01:04 UTC]?5km S of Volcano Hawaii. htt...</td>\n",
              "      <td>1</td>\n",
              "    </tr>\n",
              "    <tr>\n",
              "      <th>7611</th>\n",
              "      <td>10872</td>\n",
              "      <td>NaN</td>\n",
              "      <td>NaN</td>\n",
              "      <td>Police investigating after an e-bike collided ...</td>\n",
              "      <td>1</td>\n",
              "    </tr>\n",
              "    <tr>\n",
              "      <th>7612</th>\n",
              "      <td>10873</td>\n",
              "      <td>NaN</td>\n",
              "      <td>NaN</td>\n",
              "      <td>The Latest: More Homes Razed by Northern Calif...</td>\n",
              "      <td>1</td>\n",
              "    </tr>\n",
              "  </tbody>\n",
              "</table>\n",
              "<p>7613 rows × 5 columns</p>\n",
              "</div>\n",
              "      <button class=\"colab-df-convert\" onclick=\"convertToInteractive('df-0a796d78-5e52-4ca2-82b0-aace567acf68')\"\n",
              "              title=\"Convert this dataframe to an interactive table.\"\n",
              "              style=\"display:none;\">\n",
              "        \n",
              "  <svg xmlns=\"http://www.w3.org/2000/svg\" height=\"24px\"viewBox=\"0 0 24 24\"\n",
              "       width=\"24px\">\n",
              "    <path d=\"M0 0h24v24H0V0z\" fill=\"none\"/>\n",
              "    <path d=\"M18.56 5.44l.94 2.06.94-2.06 2.06-.94-2.06-.94-.94-2.06-.94 2.06-2.06.94zm-11 1L8.5 8.5l.94-2.06 2.06-.94-2.06-.94L8.5 2.5l-.94 2.06-2.06.94zm10 10l.94 2.06.94-2.06 2.06-.94-2.06-.94-.94-2.06-.94 2.06-2.06.94z\"/><path d=\"M17.41 7.96l-1.37-1.37c-.4-.4-.92-.59-1.43-.59-.52 0-1.04.2-1.43.59L10.3 9.45l-7.72 7.72c-.78.78-.78 2.05 0 2.83L4 21.41c.39.39.9.59 1.41.59.51 0 1.02-.2 1.41-.59l7.78-7.78 2.81-2.81c.8-.78.8-2.07 0-2.86zM5.41 20L4 18.59l7.72-7.72 1.47 1.35L5.41 20z\"/>\n",
              "  </svg>\n",
              "      </button>\n",
              "      \n",
              "  <style>\n",
              "    .colab-df-container {\n",
              "      display:flex;\n",
              "      flex-wrap:wrap;\n",
              "      gap: 12px;\n",
              "    }\n",
              "\n",
              "    .colab-df-convert {\n",
              "      background-color: #E8F0FE;\n",
              "      border: none;\n",
              "      border-radius: 50%;\n",
              "      cursor: pointer;\n",
              "      display: none;\n",
              "      fill: #1967D2;\n",
              "      height: 32px;\n",
              "      padding: 0 0 0 0;\n",
              "      width: 32px;\n",
              "    }\n",
              "\n",
              "    .colab-df-convert:hover {\n",
              "      background-color: #E2EBFA;\n",
              "      box-shadow: 0px 1px 2px rgba(60, 64, 67, 0.3), 0px 1px 3px 1px rgba(60, 64, 67, 0.15);\n",
              "      fill: #174EA6;\n",
              "    }\n",
              "\n",
              "    [theme=dark] .colab-df-convert {\n",
              "      background-color: #3B4455;\n",
              "      fill: #D2E3FC;\n",
              "    }\n",
              "\n",
              "    [theme=dark] .colab-df-convert:hover {\n",
              "      background-color: #434B5C;\n",
              "      box-shadow: 0px 1px 3px 1px rgba(0, 0, 0, 0.15);\n",
              "      filter: drop-shadow(0px 1px 2px rgba(0, 0, 0, 0.3));\n",
              "      fill: #FFFFFF;\n",
              "    }\n",
              "  </style>\n",
              "\n",
              "      <script>\n",
              "        const buttonEl =\n",
              "          document.querySelector('#df-0a796d78-5e52-4ca2-82b0-aace567acf68 button.colab-df-convert');\n",
              "        buttonEl.style.display =\n",
              "          google.colab.kernel.accessAllowed ? 'block' : 'none';\n",
              "\n",
              "        async function convertToInteractive(key) {\n",
              "          const element = document.querySelector('#df-0a796d78-5e52-4ca2-82b0-aace567acf68');\n",
              "          const dataTable =\n",
              "            await google.colab.kernel.invokeFunction('convertToInteractive',\n",
              "                                                     [key], {});\n",
              "          if (!dataTable) return;\n",
              "\n",
              "          const docLinkHtml = 'Like what you see? Visit the ' +\n",
              "            '<a target=\"_blank\" href=https://colab.research.google.com/notebooks/data_table.ipynb>data table notebook</a>'\n",
              "            + ' to learn more about interactive tables.';\n",
              "          element.innerHTML = '';\n",
              "          dataTable['output_type'] = 'display_data';\n",
              "          await google.colab.output.renderOutput(dataTable, element);\n",
              "          const docLink = document.createElement('div');\n",
              "          docLink.innerHTML = docLinkHtml;\n",
              "          element.appendChild(docLink);\n",
              "        }\n",
              "      </script>\n",
              "    </div>\n",
              "  </div>\n",
              "  "
            ]
          },
          "metadata": {},
          "execution_count": 8
        }
      ]
    },
    {
      "cell_type": "markdown",
      "source": [
        "preprocessing"
      ],
      "metadata": {
        "id": "uRZ5tdVcbfBG"
      }
    },
    {
      "cell_type": "code",
      "source": [
        "def remove_special_chars(text):\n",
        "    re1 = re.compile(r'  +')\n",
        "    x1 = text.lower().replace('#39;', \"'\").replace('amp;', '&').replace('#146;', \"'\").replace(\n",
        "        'nbsp;', ' ').replace('#36;', '$').replace('\\\\n', \"\\n\").replace('quot;', \"'\").replace(\n",
        "        '<br />', \"\\n\").replace('\\\\\"', '\"').replace('<unk>', 'u_n').replace(' @.@ ', '.').replace(\n",
        "        ' @-@ ', '-').replace('\\\\', ' \\\\ ')\n",
        "    return re1.sub(' ', html.unescape(x1))\n",
        "\n"
      ],
      "metadata": {
        "id": "Gw1tKedZbhw0"
      },
      "execution_count": 9,
      "outputs": []
    },
    {
      "cell_type": "code",
      "source": [
        "#Remove non-ASCII characters from list of tokenized words\n",
        "def remove_non_ascii(text):\n",
        "    return unicodedata.normalize('NFKD', text).encode('ascii', 'ignore').decode('utf-8', 'ignore')\n"
      ],
      "metadata": {
        "id": "ADvCrZ27beBt"
      },
      "execution_count": 10,
      "outputs": []
    },
    {
      "cell_type": "code",
      "source": [
        "def to_lowercase(text):\n",
        "    return text.lower()\n",
        "\n",
        "\n",
        "#Remove punctuation from list of tokenized words\n",
        "def remove_punctuation(text):\n",
        "    translator = str.maketrans('', '', string.punctuation)\n",
        "    return text.translate(translator)\n",
        "\n",
        "#Replace all interger occurrences in list of tokenized words with textual representation\n",
        "def replace_numbers(text):\n",
        "    return re.sub(r'\\d+', '', text)\n",
        "\n",
        "\n",
        "def remove_whitespaces(text):\n",
        "    return text.strip()"
      ],
      "metadata": {
        "id": "c9gC0zmnb-EA"
      },
      "execution_count": 11,
      "outputs": []
    },
    {
      "cell_type": "code",
      "source": [
        "def remove_stopwords(words, stop_words):\n",
        "    \n",
        "    return [word for word in words if word not in stop_words]\n",
        "\n"
      ],
      "metadata": {
        "id": "ACjYroTacSdS"
      },
      "execution_count": 12,
      "outputs": []
    },
    {
      "cell_type": "code",
      "source": [
        "def stem_words(words):\n",
        "    stemmer = PorterStemmer()\n",
        "    return [stemmer.stem(word) for word in words]\n",
        "\n",
        "def lemmatize_words(words):\n",
        "    lemmatizer = WordNetLemmatizer()\n",
        "    return [lemmatizer.lemmatize(word) for word in words]\n",
        "\n",
        "def lemmatize_verbs(words):\n",
        "    lemmatizer = WordNetLemmatizer()\n",
        "    return ' '.join([lemmatizer.lemmatize(word, pos='v') for word in words])\n",
        "\n",
        "def text2words(text):\n",
        "  return word_tokenize(text)"
      ],
      "metadata": {
        "id": "RElSQZm_cj9P"
      },
      "execution_count": 13,
      "outputs": []
    },
    {
      "cell_type": "code",
      "source": [
        "def normalize_text( text):\n",
        "    text = remove_special_chars(text)\n",
        "    text = remove_non_ascii(text)\n",
        "    text = remove_punctuation(text)\n",
        "    text = to_lowercase(text)\n",
        "    text = replace_numbers(text)\n",
        "    words = text2words(text)\n",
        "    words = remove_stopwords(words, stop_words)\n",
        "    words = lemmatize_words(words)\n",
        "    words = lemmatize_verbs(words)\n",
        "\n",
        "    return ''.join(words)"
      ],
      "metadata": {
        "id": "oJ128vngcyy_"
      },
      "execution_count": 14,
      "outputs": []
    },
    {
      "cell_type": "code",
      "source": [
        "disaster_tweets_train['text'] = disaster_tweets_train['text'].apply(lambda x: normalize_text(x))"
      ],
      "metadata": {
        "id": "1oBgGNF2c8tT"
      },
      "execution_count": 15,
      "outputs": []
    },
    {
      "cell_type": "code",
      "source": [
        "disaster_tweets_train['text']"
      ],
      "metadata": {
        "colab": {
          "base_uri": "https://localhost:8080/"
        },
        "id": "HAjUWFvXdlsd",
        "outputId": "b3eeeee5-7e17-43ef-f612-e1fb59a7f29b"
      },
      "execution_count": 16,
      "outputs": [
        {
          "output_type": "execute_result",
          "data": {
            "text/plain": [
              "0              deed reason earthquake may allah forgive u\n",
              "1                   forest fire near la ronge sask canada\n",
              "2       resident ask shelter place notify officer evac...\n",
              "3       people receive wildfire evacuation order calif...\n",
              "4       get send photo ruby alaska smoke wildfire pour...\n",
              "                              ...                        \n",
              "7608    two giant crane hold bridge collapse nearby ho...\n",
              "7609    ariaahrary thetawniest control wild fire calif...\n",
              "7610                utckm volcano hawaii httptcozdtoydebj\n",
              "7611    police investigate ebike collide car little po...\n",
              "7612    latest home raze northern california wildfire ...\n",
              "Name: text, Length: 7613, dtype: object"
            ]
          },
          "metadata": {},
          "execution_count": 16
        }
      ]
    },
    {
      "cell_type": "code",
      "source": [
        "X_train = disaster_tweets_train['text'].values.tolist()\n",
        "y_train = disaster_tweets_train['target'].values.tolist()"
      ],
      "metadata": {
        "id": "tHtHVDE9ddPg"
      },
      "execution_count": 17,
      "outputs": []
    },
    {
      "cell_type": "code",
      "source": [
        "X_train[0:5]"
      ],
      "metadata": {
        "colab": {
          "base_uri": "https://localhost:8080/"
        },
        "id": "vUqLbZ3Ldwfh",
        "outputId": "56300b85-37f3-4dd0-e82f-911a8d45ab57"
      },
      "execution_count": 20,
      "outputs": [
        {
          "output_type": "execute_result",
          "data": {
            "text/plain": [
              "['deed reason earthquake may allah forgive u',\n",
              " 'forest fire near la ronge sask canada',\n",
              " 'resident ask shelter place notify officer evacuation shelter place order expect',\n",
              " 'people receive wildfire evacuation order california',\n",
              " 'get send photo ruby alaska smoke wildfire pour school']"
            ]
          },
          "metadata": {},
          "execution_count": 20
        }
      ]
    },
    {
      "cell_type": "code",
      "source": [
        "y_train[0:5]"
      ],
      "metadata": {
        "colab": {
          "base_uri": "https://localhost:8080/"
        },
        "id": "VBiZLsczd6Sj",
        "outputId": "34104179-2877-4b8a-d174-8bd7c7af8abe"
      },
      "execution_count": 21,
      "outputs": [
        {
          "output_type": "execute_result",
          "data": {
            "text/plain": [
              "[1, 1, 1, 1, 1]"
            ]
          },
          "metadata": {},
          "execution_count": 21
        }
      ]
    },
    {
      "cell_type": "code",
      "source": [
        "X_train, X_validation, y_train, y_validation = train_test_split(X_train, y_train, test_size=0.2,random_state=42)"
      ],
      "metadata": {
        "id": "-604SUYzeE3p"
      },
      "execution_count": 22,
      "outputs": []
    },
    {
      "cell_type": "code",
      "source": [
        "len(X_train)"
      ],
      "metadata": {
        "colab": {
          "base_uri": "https://localhost:8080/"
        },
        "id": "HGV89FVxehfc",
        "outputId": "d26d1d63-26eb-4439-a8c3-6bda1f9ed8c9"
      },
      "execution_count": 23,
      "outputs": [
        {
          "output_type": "execute_result",
          "data": {
            "text/plain": [
              "6090"
            ]
          },
          "metadata": {},
          "execution_count": 23
        }
      ]
    },
    {
      "cell_type": "code",
      "source": [
        "len(X_validation)"
      ],
      "metadata": {
        "colab": {
          "base_uri": "https://localhost:8080/"
        },
        "id": "MuiH6eWEe-HT",
        "outputId": "66f851be-4e94-45a3-ddf0-de86cbcde5ab"
      },
      "execution_count": 24,
      "outputs": [
        {
          "output_type": "execute_result",
          "data": {
            "text/plain": [
              "1523"
            ]
          },
          "metadata": {},
          "execution_count": 24
        }
      ]
    },
    {
      "cell_type": "markdown",
      "source": [
        "**BoW**"
      ],
      "metadata": {
        "id": "F9X-j1IYezWW"
      }
    },
    {
      "cell_type": "code",
      "source": [
        "token_obj = Tokenizer(num_words=2000, oov_token='UNK')\n",
        "token_obj.fit_on_texts(X_train+ X_validation)\n"
      ],
      "metadata": {
        "id": "LpF9okvie3tC"
      },
      "execution_count": 25,
      "outputs": []
    },
    {
      "cell_type": "code",
      "source": [
        "#extracting binary BoW features\n",
        "X_train = token_obj.texts_to_matrix(X_train, mode='binary')\n",
        "X_validation = token_obj.texts_to_matrix(X_validation, mode='binary')\n",
        "y_train = np.asarray(y_train).astype('float32')\n",
        "y_validation = np.asarray(y_validation).astype('float32')\n"
      ],
      "metadata": {
        "id": "47LeEHKXfgbc"
      },
      "execution_count": 26,
      "outputs": []
    },
    {
      "cell_type": "code",
      "source": [
        "X_train.shape"
      ],
      "metadata": {
        "colab": {
          "base_uri": "https://localhost:8080/"
        },
        "id": "jPXR-q-qgMdJ",
        "outputId": "02791822-150c-4485-ecb0-5f34a236f873"
      },
      "execution_count": 27,
      "outputs": [
        {
          "output_type": "execute_result",
          "data": {
            "text/plain": [
              "(6090, 2000)"
            ]
          },
          "metadata": {},
          "execution_count": 27
        }
      ]
    },
    {
      "cell_type": "code",
      "source": [
        "X_validation.shape"
      ],
      "metadata": {
        "colab": {
          "base_uri": "https://localhost:8080/"
        },
        "id": "q2eMXmADgPvz",
        "outputId": "01089e84-dfa8-4156-ac8b-8f8ddae9a1af"
      },
      "execution_count": 28,
      "outputs": [
        {
          "output_type": "execute_result",
          "data": {
            "text/plain": [
              "(1523, 2000)"
            ]
          },
          "metadata": {},
          "execution_count": 28
        }
      ]
    },
    {
      "cell_type": "code",
      "source": [
        "y_train.shape"
      ],
      "metadata": {
        "colab": {
          "base_uri": "https://localhost:8080/"
        },
        "id": "_5T3mFkVgWbI",
        "outputId": "30dd1378-4018-477f-f7c1-e7adf72378d0"
      },
      "execution_count": 29,
      "outputs": [
        {
          "output_type": "execute_result",
          "data": {
            "text/plain": [
              "(6090,)"
            ]
          },
          "metadata": {},
          "execution_count": 29
        }
      ]
    },
    {
      "cell_type": "code",
      "source": [
        "y_validation.shape"
      ],
      "metadata": {
        "colab": {
          "base_uri": "https://localhost:8080/"
        },
        "id": "i22YN0WqgZOg",
        "outputId": "738be040-65e1-4ccb-8de9-50c7ae5d244e"
      },
      "execution_count": 30,
      "outputs": [
        {
          "output_type": "execute_result",
          "data": {
            "text/plain": [
              "(1523,)"
            ]
          },
          "metadata": {},
          "execution_count": 30
        }
      ]
    },
    {
      "cell_type": "code",
      "source": [
        "from keras import regularizers"
      ],
      "metadata": {
        "id": "2FtPJe-lijdQ"
      },
      "execution_count": 39,
      "outputs": []
    },
    {
      "cell_type": "code",
      "source": [
        "model = models.Sequential()\n",
        "model.add(layers.Dense(16, activation='relu', input_shape=(2000,)))\n",
        "model.add(layers.Dense(16, activation='relu',kernel_regularizer=regularizers.l2(0.001)))\n",
        "model.add(layers.Dense(1, activation='sigmoid'))"
      ],
      "metadata": {
        "id": "BTW93W5kgiQU"
      },
      "execution_count": 40,
      "outputs": []
    },
    {
      "cell_type": "code",
      "source": [
        "model.summary()"
      ],
      "metadata": {
        "colab": {
          "base_uri": "https://localhost:8080/"
        },
        "id": "R5XfN-begzeb",
        "outputId": "f2bf057b-0ce5-4879-f405-9fa89e931523"
      },
      "execution_count": 41,
      "outputs": [
        {
          "output_type": "stream",
          "name": "stdout",
          "text": [
            "Model: \"sequential_1\"\n",
            "_________________________________________________________________\n",
            " Layer (type)                Output Shape              Param #   \n",
            "=================================================================\n",
            " dense_3 (Dense)             (None, 16)                32016     \n",
            "                                                                 \n",
            " dense_4 (Dense)             (None, 16)                272       \n",
            "                                                                 \n",
            " dense_5 (Dense)             (None, 1)                 17        \n",
            "                                                                 \n",
            "=================================================================\n",
            "Total params: 32,305\n",
            "Trainable params: 32,305\n",
            "Non-trainable params: 0\n",
            "_________________________________________________________________\n"
          ]
        }
      ]
    },
    {
      "cell_type": "code",
      "source": [
        "plot_model(model)"
      ],
      "metadata": {
        "colab": {
          "base_uri": "https://localhost:8080/",
          "height": 369
        },
        "id": "2Ovr-jjZg43V",
        "outputId": "857a5199-eb0c-4262-90b1-df9093331987"
      },
      "execution_count": 42,
      "outputs": [
        {
          "output_type": "execute_result",
          "data": {
            "text/plain": [
              "<IPython.core.display.Image object>"
            ],
            "image/png": "[encoded data removed]"
          },
          "metadata": {},
          "execution_count": 42
        }
      ]
    },
    {
      "cell_type": "code",
      "source": [
        "from tensorflow.keras.optimizers import RMSprop"
      ],
      "metadata": {
        "id": "wPEjWNVShVII"
      },
      "execution_count": 43,
      "outputs": []
    },
    {
      "cell_type": "code",
      "source": [
        "model.compile(optimizer=RMSprop(learning_rate=0.001),\n",
        "              loss=losses.binary_crossentropy,\n",
        "              metrics=[metrics.binary_accuracy])"
      ],
      "metadata": {
        "id": "rKYAFbGgg9Ae"
      },
      "execution_count": 44,
      "outputs": []
    },
    {
      "cell_type": "code",
      "source": [
        "history = model.fit(X_train,\n",
        "                    y_train,\n",
        "                    epochs=20,\n",
        "                    batch_size=512,\n",
        "                    validation_data=(X_validation, y_validation))"
      ],
      "metadata": {
        "colab": {
          "base_uri": "https://localhost:8080/"
        },
        "id": "ionfgG6ahed9",
        "outputId": "81061631-45aa-44c0-b65e-02f80d51806f"
      },
      "execution_count": 47,
      "outputs": [
        {
          "output_type": "stream",
          "name": "stdout",
          "text": [
            "Epoch 1/20\n",
            "12/12 [==============================] - 1s 47ms/step - loss: 0.1477 - binary_accuracy: 0.9563 - val_loss: 0.8560 - val_binary_accuracy: 0.7597\n",
            "Epoch 2/20\n",
            "12/12 [==============================] - 0s 24ms/step - loss: 0.1446 - binary_accuracy: 0.9552 - val_loss: 0.8767 - val_binary_accuracy: 0.7531\n",
            "Epoch 3/20\n",
            "12/12 [==============================] - 0s 31ms/step - loss: 0.1417 - binary_accuracy: 0.9580 - val_loss: 0.8876 - val_binary_accuracy: 0.7551\n",
            "Epoch 4/20\n",
            "12/12 [==============================] - 0s 10ms/step - loss: 0.1391 - binary_accuracy: 0.9578 - val_loss: 0.8966 - val_binary_accuracy: 0.7577\n",
            "Epoch 5/20\n",
            "12/12 [==============================] - 0s 11ms/step - loss: 0.1372 - binary_accuracy: 0.9601 - val_loss: 0.9137 - val_binary_accuracy: 0.7590\n",
            "Epoch 6/20\n",
            "12/12 [==============================] - 0s 10ms/step - loss: 0.1341 - binary_accuracy: 0.9612 - val_loss: 0.9247 - val_binary_accuracy: 0.7590\n",
            "Epoch 7/20\n",
            "12/12 [==============================] - 0s 13ms/step - loss: 0.1312 - binary_accuracy: 0.9627 - val_loss: 0.9460 - val_binary_accuracy: 0.7498\n",
            "Epoch 8/20\n",
            "12/12 [==============================] - 0s 14ms/step - loss: 0.1288 - binary_accuracy: 0.9637 - val_loss: 0.9579 - val_binary_accuracy: 0.7531\n",
            "Epoch 9/20\n",
            "12/12 [==============================] - 0s 15ms/step - loss: 0.1274 - binary_accuracy: 0.9634 - val_loss: 0.9723 - val_binary_accuracy: 0.7525\n",
            "Epoch 10/20\n",
            "12/12 [==============================] - 0s 15ms/step - loss: 0.1244 - binary_accuracy: 0.9645 - val_loss: 0.9903 - val_binary_accuracy: 0.7498\n",
            "Epoch 11/20\n",
            "12/12 [==============================] - 0s 12ms/step - loss: 0.1230 - binary_accuracy: 0.9647 - val_loss: 0.9932 - val_binary_accuracy: 0.7557\n",
            "Epoch 12/20\n",
            "12/12 [==============================] - 0s 13ms/step - loss: 0.1205 - binary_accuracy: 0.9650 - val_loss: 1.0164 - val_binary_accuracy: 0.7479\n",
            "Epoch 13/20\n",
            "12/12 [==============================] - 0s 13ms/step - loss: 0.1192 - binary_accuracy: 0.9667 - val_loss: 1.0216 - val_binary_accuracy: 0.7525\n",
            "Epoch 14/20\n",
            "12/12 [==============================] - 0s 13ms/step - loss: 0.1171 - binary_accuracy: 0.9662 - val_loss: 1.0379 - val_binary_accuracy: 0.7518\n",
            "Epoch 15/20\n",
            "12/12 [==============================] - 0s 15ms/step - loss: 0.1153 - binary_accuracy: 0.9675 - val_loss: 1.0484 - val_binary_accuracy: 0.7505\n",
            "Epoch 16/20\n",
            "12/12 [==============================] - 0s 13ms/step - loss: 0.1132 - binary_accuracy: 0.9690 - val_loss: 1.0633 - val_binary_accuracy: 0.7511\n",
            "Epoch 17/20\n",
            "12/12 [==============================] - 0s 16ms/step - loss: 0.1118 - binary_accuracy: 0.9690 - val_loss: 1.0817 - val_binary_accuracy: 0.7479\n",
            "Epoch 18/20\n",
            "12/12 [==============================] - 0s 13ms/step - loss: 0.1100 - binary_accuracy: 0.9700 - val_loss: 1.0885 - val_binary_accuracy: 0.7525\n",
            "Epoch 19/20\n",
            "12/12 [==============================] - 0s 11ms/step - loss: 0.1085 - binary_accuracy: 0.9711 - val_loss: 1.1015 - val_binary_accuracy: 0.7518\n",
            "Epoch 20/20\n",
            "12/12 [==============================] - 0s 11ms/step - loss: 0.1071 - binary_accuracy: 0.9704 - val_loss: 1.1123 - val_binary_accuracy: 0.7518\n"
          ]
        }
      ]
    },
    {
      "cell_type": "code",
      "source": [
        "history_dict = history.history\n",
        "history_dict.keys()"
      ],
      "metadata": {
        "colab": {
          "base_uri": "https://localhost:8080/"
        },
        "id": "UyjnQjibjDTP",
        "outputId": "0bba7f32-7849-4b63-c346-581c0ed9875a"
      },
      "execution_count": 48,
      "outputs": [
        {
          "output_type": "execute_result",
          "data": {
            "text/plain": [
              "dict_keys(['loss', 'binary_accuracy', 'val_loss', 'val_binary_accuracy'])"
            ]
          },
          "metadata": {},
          "execution_count": 48
        }
      ]
    },
    {
      "cell_type": "code",
      "source": [
        "acc = history.history['binary_accuracy']\n",
        "val_acc = history.history['val_binary_accuracy']\n",
        "loss = history.history['loss']\n",
        "val_loss = history.history['val_loss']\n",
        "\n",
        "epochs = range(1, len(acc) + 1)\n",
        "\n",
        "# \"bo\" is for \"blue dot\"\n",
        "plt.plot(epochs, loss, 'bo', label='Training loss')\n",
        "# b is for \"solid blue line\"\n",
        "plt.plot(epochs, val_loss, 'b', label='Validation loss')\n",
        "plt.title('Training and validation loss')\n",
        "plt.xlabel('Epochs')\n",
        "plt.ylabel('Loss')\n",
        "plt.legend()\n",
        "\n",
        "plt.show()"
      ],
      "metadata": {
        "colab": {
          "base_uri": "https://localhost:8080/",
          "height": 295
        },
        "id": "3hItCm10jI86",
        "outputId": "0be0ce32-0840-4eb4-c6c6-082130a3bfc0"
      },
      "execution_count": 49,
      "outputs": [
        {
          "output_type": "display_data",
          "data": {
            "text/plain": [
              "<Figure size 432x288 with 1 Axes>"
            ],
            "image/png": "[encoded data removed]"
          },
          "metadata": {
            "needs_background": "light"
          }
        }
      ]
    },
    {
      "cell_type": "markdown",
      "source": [
        "** LSTM**"
      ],
      "metadata": {
        "id": "BNQun4BgjWR9"
      }
    },
    {
      "cell_type": "code",
      "source": [
        "XX_train = np.array(disaster_tweets_train['text'].values.tolist())\n",
        "yy_train = np.array(disaster_tweets_train['target'].values.tolist())\n",
        "\n",
        "max_features=3000\n",
        "tokenizer=Tokenizer(num_words=max_features,split=' ')\n",
        "tokenizer.fit_on_texts(XX_train)\n",
        "X = tokenizer.texts_to_sequences(XX_train)\n",
        "X = pad_sequences(X)"
      ],
      "metadata": {
        "id": "4Hx56-_QjZ9n"
      },
      "execution_count": 57,
      "outputs": []
    },
    {
      "cell_type": "code",
      "source": [
        "X.shape"
      ],
      "metadata": {
        "colab": {
          "base_uri": "https://localhost:8080/"
        },
        "id": "h51Ebt_DkJoy",
        "outputId": "769c80f2-b89b-4efb-e09f-6d381a30e0c5"
      },
      "execution_count": 52,
      "outputs": [
        {
          "output_type": "execute_result",
          "data": {
            "text/plain": [
              "(7613, 31)"
            ]
          },
          "metadata": {},
          "execution_count": 52
        }
      ]
    },
    {
      "cell_type": "code",
      "source": [
        "yy_train.shape"
      ],
      "metadata": {
        "colab": {
          "base_uri": "https://localhost:8080/"
        },
        "id": "itD50Dx-kMQD",
        "outputId": "b0c273c2-071c-4b64-a2d2-06d34622e8fc"
      },
      "execution_count": 53,
      "outputs": [
        {
          "output_type": "execute_result",
          "data": {
            "text/plain": [
              "(7613,)"
            ]
          },
          "metadata": {},
          "execution_count": 53
        }
      ]
    },
    {
      "cell_type": "code",
      "source": [
        "XX_train, XX_validation, yy_train, yy_validation = train_test_split(X, yy_train, test_size=0.2,random_state=42)"
      ],
      "metadata": {
        "id": "v7lJ4EAxkQI8"
      },
      "execution_count": 58,
      "outputs": []
    },
    {
      "cell_type": "code",
      "source": [
        "model = models.Sequential()\n",
        "model.add(layers.Dense(16, activation='relu', input_shape=(2000,)))\n",
        "model.add(layers.Dense(16, activation='relu',kernel_regularizer=regularizers.l2(0.001)))\n",
        "model.add(layers.Dense(1, activation='sigmoid'))"
      ],
      "metadata": {
        "id": "npd8_NuAlJS2"
      },
      "execution_count": null,
      "outputs": []
    },
    {
      "cell_type": "code",
      "source": [
        "import tensorflow\n",
        "embed_dim = 32\n",
        "lstm_out = 32\n",
        "model = models.Sequential()\n",
        "model.add(layers.Embedding(max_features, embed_dim,input_length = X.shape[1]))\n",
        "model.add(layers.Dropout(0.3))\n",
        "model.add(layers.LSTM(lstm_out, dropout=0.3, recurrent_dropout=0.4))\n",
        "model.add(layers.Dense(1,activation='sigmoid'))\n",
        "adam =tensorflow.keras.optimizers.Adam(learning_rate=0.002)\n",
        "model.compile(loss = 'binary_crossentropy', optimizer=adam ,metrics = ['accuracy'])\n",
        "print(model.summary())"
      ],
      "metadata": {
        "colab": {
          "base_uri": "https://localhost:8080/"
        },
        "id": "iVY-xougk32p",
        "outputId": "672229e3-0387-4511-e6af-33a6151dd6be"
      },
      "execution_count": 62,
      "outputs": [
        {
          "output_type": "stream",
          "name": "stdout",
          "text": [
            "Model: \"sequential_4\"\n",
            "_________________________________________________________________\n",
            " Layer (type)                Output Shape              Param #   \n",
            "=================================================================\n",
            " embedding_2 (Embedding)     (None, 31, 32)            96000     \n",
            "                                                                 \n",
            " dropout_2 (Dropout)         (None, 31, 32)            0         \n",
            "                                                                 \n",
            " lstm_2 (LSTM)               (None, 32)                8320      \n",
            "                                                                 \n",
            " dense_8 (Dense)             (None, 1)                 33        \n",
            "                                                                 \n",
            "=================================================================\n",
            "Total params: 104,353\n",
            "Trainable params: 104,353\n",
            "Non-trainable params: 0\n",
            "_________________________________________________________________\n",
            "None\n"
          ]
        }
      ]
    },
    {
      "cell_type": "code",
      "source": [
        "plot_model(model)"
      ],
      "metadata": {
        "colab": {
          "base_uri": "https://localhost:8080/",
          "height": 466
        },
        "id": "yeU70zKkkjQq",
        "outputId": "4e433f2e-d730-4223-d7ba-c3f75957f0a6"
      },
      "execution_count": 63,
      "outputs": [
        {
          "output_type": "execute_result",
          "data": {
            "text/plain": [
              "<IPython.core.display.Image object>"
            ],
            "image/png": "[encoded data removed]"
          },
          "metadata": {},
          "execution_count": 63
        }
      ]
    },
    {
      "cell_type": "code",
      "source": [
        "history = model.fit(XX_train,\n",
        "                    yy_train,\n",
        "                    epochs=20,\n",
        "                    batch_size=512,\n",
        "                    validation_data=(XX_validation, yy_validation))"
      ],
      "metadata": {
        "colab": {
          "base_uri": "https://localhost:8080/"
        },
        "id": "n1I0EEUdm0h4",
        "outputId": "de0ae394-70af-49e4-8eb3-a2ba4af4e344"
      },
      "execution_count": 64,
      "outputs": [
        {
          "output_type": "stream",
          "name": "stdout",
          "text": [
            "Epoch 1/20\n",
            "12/12 [==============================] - 5s 169ms/step - loss: 0.6809 - accuracy: 0.5611 - val_loss: 0.6592 - val_accuracy: 0.5739\n",
            "Epoch 2/20\n",
            "12/12 [==============================] - 2s 133ms/step - loss: 0.6312 - accuracy: 0.6225 - val_loss: 0.5945 - val_accuracy: 0.7098\n",
            "Epoch 3/20\n",
            "12/12 [==============================] - 1s 122ms/step - loss: 0.5497 - accuracy: 0.7409 - val_loss: 0.5208 - val_accuracy: 0.7590\n",
            "Epoch 4/20\n",
            "12/12 [==============================] - 1s 123ms/step - loss: 0.4517 - accuracy: 0.8018 - val_loss: 0.4616 - val_accuracy: 0.7965\n",
            "Epoch 5/20\n",
            "12/12 [==============================] - 2s 134ms/step - loss: 0.3768 - accuracy: 0.8374 - val_loss: 0.4388 - val_accuracy: 0.8194\n",
            "Epoch 6/20\n",
            "12/12 [==============================] - 2s 129ms/step - loss: 0.3365 - accuracy: 0.8640 - val_loss: 0.4345 - val_accuracy: 0.8188\n",
            "Epoch 7/20\n",
            "12/12 [==============================] - 2s 134ms/step - loss: 0.3087 - accuracy: 0.8793 - val_loss: 0.4511 - val_accuracy: 0.8037\n",
            "Epoch 8/20\n",
            "12/12 [==============================] - 2s 125ms/step - loss: 0.2865 - accuracy: 0.8887 - val_loss: 0.4693 - val_accuracy: 0.8070\n",
            "Epoch 9/20\n",
            "12/12 [==============================] - 2s 133ms/step - loss: 0.2701 - accuracy: 0.8903 - val_loss: 0.4866 - val_accuracy: 0.8011\n",
            "Epoch 10/20\n",
            "12/12 [==============================] - 2s 125ms/step - loss: 0.2460 - accuracy: 0.9069 - val_loss: 0.5101 - val_accuracy: 0.7971\n",
            "Epoch 11/20\n",
            "12/12 [==============================] - 2s 134ms/step - loss: 0.2398 - accuracy: 0.9095 - val_loss: 0.5390 - val_accuracy: 0.7892\n",
            "Epoch 12/20\n",
            "12/12 [==============================] - 2s 134ms/step - loss: 0.2313 - accuracy: 0.9115 - val_loss: 0.5486 - val_accuracy: 0.7919\n",
            "Epoch 13/20\n",
            "12/12 [==============================] - 2s 130ms/step - loss: 0.2227 - accuracy: 0.9172 - val_loss: 0.5934 - val_accuracy: 0.7800\n",
            "Epoch 14/20\n",
            "12/12 [==============================] - 1s 120ms/step - loss: 0.2126 - accuracy: 0.9207 - val_loss: 0.6141 - val_accuracy: 0.7853\n",
            "Epoch 15/20\n",
            "12/12 [==============================] - 1s 121ms/step - loss: 0.2019 - accuracy: 0.9223 - val_loss: 0.6033 - val_accuracy: 0.7919\n",
            "Epoch 16/20\n",
            "12/12 [==============================] - 1s 122ms/step - loss: 0.2016 - accuracy: 0.9212 - val_loss: 0.6380 - val_accuracy: 0.7820\n",
            "Epoch 17/20\n",
            "12/12 [==============================] - 1s 122ms/step - loss: 0.1890 - accuracy: 0.9274 - val_loss: 0.6715 - val_accuracy: 0.7840\n",
            "Epoch 18/20\n",
            "12/12 [==============================] - 1s 122ms/step - loss: 0.1821 - accuracy: 0.9317 - val_loss: 0.6804 - val_accuracy: 0.7761\n",
            "Epoch 19/20\n",
            "12/12 [==============================] - 1s 121ms/step - loss: 0.1765 - accuracy: 0.9320 - val_loss: 0.6827 - val_accuracy: 0.7722\n",
            "Epoch 20/20\n",
            "12/12 [==============================] - 1s 122ms/step - loss: 0.1705 - accuracy: 0.9351 - val_loss: 0.6914 - val_accuracy: 0.7676\n"
          ]
        }
      ]
    },
    {
      "cell_type": "code",
      "source": [
        "history_dict = history.history\n",
        "history_dict.keys()"
      ],
      "metadata": {
        "colab": {
          "base_uri": "https://localhost:8080/"
        },
        "id": "eRF1RRUCnYme",
        "outputId": "f5cb34d4-1be9-4d4f-b624-1bba234b41b1"
      },
      "execution_count": 65,
      "outputs": [
        {
          "output_type": "execute_result",
          "data": {
            "text/plain": [
              "dict_keys(['loss', 'accuracy', 'val_loss', 'val_accuracy'])"
            ]
          },
          "metadata": {},
          "execution_count": 65
        }
      ]
    },
    {
      "cell_type": "code",
      "source": [
        "acc = history.history['accuracy']\n",
        "val_acc = history.history['val_accuracy']\n",
        "loss = history.history['loss']\n",
        "val_loss = history.history['val_loss']\n",
        "\n",
        "epochs = range(1, len(acc) + 1)\n",
        "\n",
        "# \"bo\" is for \"blue dot\"\n",
        "plt.plot(epochs, loss, 'bo', label='Training loss')\n",
        "# b is for \"solid blue line\"\n",
        "plt.plot(epochs, val_loss, 'b', label='Validation loss')\n",
        "plt.title('Training and validation loss')\n",
        "plt.xlabel('Epochs')\n",
        "plt.ylabel('Loss')\n",
        "plt.legend()\n",
        "\n",
        "plt.show()"
      ],
      "metadata": {
        "colab": {
          "base_uri": "https://localhost:8080/",
          "height": 295
        },
        "id": "vqeH3LSFnccO",
        "outputId": "63ad8918-07d9-43c2-fdf4-57dcca1e6314"
      },
      "execution_count": 66,
      "outputs": [
        {
          "output_type": "display_data",
          "data": {
            "text/plain": [
              "<Figure size 432x288 with 1 Axes>"
            ],
            "image/png": "[encoded data removed]"
          },
          "metadata": {
            "needs_background": "light"
          }
        }
      ]
    },
    {
      "cell_type": "markdown",
      "source": [
        "**GRU**"
      ],
      "metadata": {
        "id": "TGPHX0MBnutA"
      }
    },
    {
      "cell_type": "code",
      "source": [
        "XXX_train = np.array(disaster_tweets_train['text'].values.tolist())\n",
        "yyy_train = np.array(disaster_tweets_train['target'].values.tolist())\n",
        "\n",
        "max_features=3000\n",
        "tokenizer=Tokenizer(num_words=max_features,split=' ')\n",
        "tokenizer.fit_on_texts(XXX_train)\n",
        "XXX_train = tokenizer.texts_to_sequences(XXX_train)\n",
        "XXX_train = pad_sequences(XXX_train)"
      ],
      "metadata": {
        "id": "_z4GRIO-nwZs"
      },
      "execution_count": 67,
      "outputs": []
    },
    {
      "cell_type": "code",
      "source": [
        "XXX_train, XXX_validation, yyy_train, yyy_validation = train_test_split(XXX_train, yyy_train, test_size=0.2,random_state=42)"
      ],
      "metadata": {
        "id": "XCsiZM_2nktk"
      },
      "execution_count": 68,
      "outputs": []
    },
    {
      "cell_type": "code",
      "source": [
        "embed_dim = 32\n",
        "lstm_out = 32\n",
        "model = models.Sequential()\n",
        "model.add(layers.Embedding(max_features, embed_dim,input_length = X.shape[1]))\n",
        "model.add(layers.Dropout(0.3))\n",
        "model.add(layers.LSTM(lstm_out, dropout=0.3, recurrent_dropout=0.4))\n",
        "model.add(layers.Dense(1,activation='sigmoid'))\n",
        "adam =tensorflow.keras.optimizers.Adam(learning_rate=0.002)\n",
        "model.compile(loss = 'binary_crossentropy', optimizer=adam ,metrics = ['accuracy'])"
      ],
      "metadata": {
        "id": "D8jVkXmeo6ri"
      },
      "execution_count": 70,
      "outputs": []
    },
    {
      "cell_type": "code",
      "source": [
        "print(model.summary())"
      ],
      "metadata": {
        "colab": {
          "base_uri": "https://localhost:8080/"
        },
        "id": "QEUYUE-tpEJ2",
        "outputId": "6d04a6d1-5b53-492d-cd02-731b9f61c7ca"
      },
      "execution_count": 71,
      "outputs": [
        {
          "output_type": "stream",
          "name": "stdout",
          "text": [
            "Model: \"sequential_6\"\n",
            "_________________________________________________________________\n",
            " Layer (type)                Output Shape              Param #   \n",
            "=================================================================\n",
            " embedding_4 (Embedding)     (None, 31, 32)            96000     \n",
            "                                                                 \n",
            " dropout_4 (Dropout)         (None, 31, 32)            0         \n",
            "                                                                 \n",
            " lstm_4 (LSTM)               (None, 32)                8320      \n",
            "                                                                 \n",
            " dense_10 (Dense)            (None, 1)                 33        \n",
            "                                                                 \n",
            "=================================================================\n",
            "Total params: 104,353\n",
            "Trainable params: 104,353\n",
            "Non-trainable params: 0\n",
            "_________________________________________________________________\n",
            "None\n"
          ]
        }
      ]
    },
    {
      "cell_type": "code",
      "source": [
        "plot_model(model)"
      ],
      "metadata": {
        "colab": {
          "base_uri": "https://localhost:8080/",
          "height": 466
        },
        "id": "rgLc83znpJfJ",
        "outputId": "e4fe41f5-22ab-4dd2-9e1b-96f401e0f732"
      },
      "execution_count": 72,
      "outputs": [
        {
          "output_type": "execute_result",
          "data": {
            "text/plain": [
              "<IPython.core.display.Image object>"
            ],
            "image/png": "[encoded data removed]"
          },
          "metadata": {},
          "execution_count": 72
        }
      ]
    },
    {
      "cell_type": "code",
      "source": [
        "history = model.fit(XXX_train,\n",
        "                    yyy_train,\n",
        "                    epochs=20,\n",
        "                    batch_size=512,\n",
        "                    validation_data=(XXX_validation, yyy_validation))"
      ],
      "metadata": {
        "colab": {
          "base_uri": "https://localhost:8080/"
        },
        "id": "iMSYb9VMpLQT",
        "outputId": "6a998fc9-cf13-42c4-ca5c-98eb03bd6f88"
      },
      "execution_count": 73,
      "outputs": [
        {
          "output_type": "stream",
          "name": "stdout",
          "text": [
            "Epoch 1/20\n",
            "12/12 [==============================] - 9s 160ms/step - loss: 0.6786 - accuracy: 0.5626 - val_loss: 0.6629 - val_accuracy: 0.5739\n",
            "Epoch 2/20\n",
            "12/12 [==============================] - 1s 124ms/step - loss: 0.6328 - accuracy: 0.6289 - val_loss: 0.5925 - val_accuracy: 0.6888\n",
            "Epoch 3/20\n",
            "12/12 [==============================] - 1s 126ms/step - loss: 0.5473 - accuracy: 0.7300 - val_loss: 0.5210 - val_accuracy: 0.7597\n",
            "Epoch 4/20\n",
            "12/12 [==============================] - 2s 133ms/step - loss: 0.4557 - accuracy: 0.7992 - val_loss: 0.4878 - val_accuracy: 0.7676\n",
            "Epoch 5/20\n",
            "12/12 [==============================] - 2s 135ms/step - loss: 0.3851 - accuracy: 0.8361 - val_loss: 0.4428 - val_accuracy: 0.8056\n",
            "Epoch 6/20\n",
            "12/12 [==============================] - 1s 124ms/step - loss: 0.3379 - accuracy: 0.8608 - val_loss: 0.4368 - val_accuracy: 0.8175\n",
            "Epoch 7/20\n",
            "12/12 [==============================] - 1s 122ms/step - loss: 0.3104 - accuracy: 0.8727 - val_loss: 0.4536 - val_accuracy: 0.8089\n",
            "Epoch 8/20\n",
            "12/12 [==============================] - 1s 125ms/step - loss: 0.2862 - accuracy: 0.8842 - val_loss: 0.4649 - val_accuracy: 0.8004\n",
            "Epoch 9/20\n",
            "12/12 [==============================] - 2s 129ms/step - loss: 0.2665 - accuracy: 0.8989 - val_loss: 0.4902 - val_accuracy: 0.7965\n",
            "Epoch 10/20\n",
            "12/12 [==============================] - 1s 120ms/step - loss: 0.2532 - accuracy: 0.9061 - val_loss: 0.5047 - val_accuracy: 0.7859\n",
            "Epoch 11/20\n",
            "12/12 [==============================] - 2s 126ms/step - loss: 0.2438 - accuracy: 0.9053 - val_loss: 0.5278 - val_accuracy: 0.7984\n",
            "Epoch 12/20\n",
            "12/12 [==============================] - 1s 124ms/step - loss: 0.2247 - accuracy: 0.9138 - val_loss: 0.5453 - val_accuracy: 0.8004\n",
            "Epoch 13/20\n",
            "12/12 [==============================] - 1s 124ms/step - loss: 0.2228 - accuracy: 0.9146 - val_loss: 0.5755 - val_accuracy: 0.7965\n",
            "Epoch 14/20\n",
            "12/12 [==============================] - 1s 124ms/step - loss: 0.2110 - accuracy: 0.9215 - val_loss: 0.6076 - val_accuracy: 0.7984\n",
            "Epoch 15/20\n",
            "12/12 [==============================] - 1s 121ms/step - loss: 0.2005 - accuracy: 0.9223 - val_loss: 0.6203 - val_accuracy: 0.7892\n",
            "Epoch 16/20\n",
            "12/12 [==============================] - 1s 123ms/step - loss: 0.1943 - accuracy: 0.9253 - val_loss: 0.6535 - val_accuracy: 0.7938\n",
            "Epoch 17/20\n",
            "12/12 [==============================] - 2s 128ms/step - loss: 0.1869 - accuracy: 0.9304 - val_loss: 0.6572 - val_accuracy: 0.7879\n",
            "Epoch 18/20\n",
            "12/12 [==============================] - 2s 132ms/step - loss: 0.1836 - accuracy: 0.9291 - val_loss: 0.7376 - val_accuracy: 0.7708\n",
            "Epoch 19/20\n",
            "12/12 [==============================] - 2s 204ms/step - loss: 0.1828 - accuracy: 0.9279 - val_loss: 0.6842 - val_accuracy: 0.7794\n",
            "Epoch 20/20\n",
            "12/12 [==============================] - 2s 195ms/step - loss: 0.1708 - accuracy: 0.9350 - val_loss: 0.7473 - val_accuracy: 0.7768\n"
          ]
        }
      ]
    },
    {
      "cell_type": "code",
      "source": [
        "acc = history.history['accuracy']\n",
        "val_acc = history.history['val_accuracy']\n",
        "loss = history.history['loss']\n",
        "val_loss = history.history['val_loss']\n",
        "\n",
        "epochs = range(1, len(acc) + 1)\n",
        "\n",
        "# \"bo\" is for \"blue dot\"\n",
        "plt.plot(epochs, loss, 'bo', label='Training loss')\n",
        "# b is for \"solid blue line\"\n",
        "plt.plot(epochs, val_loss, 'b', label='Validation loss')\n",
        "plt.title('Training and validation loss')\n",
        "plt.xlabel('Epochs')\n",
        "plt.ylabel('Loss')\n",
        "plt.legend()\n",
        "\n",
        "plt.show()"
      ],
      "metadata": {
        "colab": {
          "base_uri": "https://localhost:8080/",
          "height": 295
        },
        "id": "J6aKKKhcpgsa",
        "outputId": "5ab8d0cb-67c9-471d-ebcc-ab8f5d54db94"
      },
      "execution_count": 74,
      "outputs": [
        {
          "output_type": "display_data",
          "data": {
            "text/plain": [
              "<Figure size 432x288 with 1 Axes>"
            ],
            "image/png": "[encoded data removed]"
          },
          "metadata": {
            "needs_background": "light"
          }
        }
      ]
    },
    {
      "cell_type": "markdown",
      "source": [
        "**finally Bidirectional**"
      ],
      "metadata": {
        "id": "Pt8mX8Z3poko"
      }
    },
    {
      "cell_type": "code",
      "source": [
        "x_train = np.array(disaster_tweets_train['text'].values.tolist())\n",
        "y_train = np.array(disaster_tweets_train['target'].values.tolist())\n",
        "\n",
        "max_features=3000\n",
        "tokenizer=Tokenizer(num_words=max_features,split=' ')\n",
        "tokenizer.fit_on_texts(x_train)\n",
        "x_train = tokenizer.texts_to_sequences(x_train)\n",
        "x_train= pad_sequences(x_train)"
      ],
      "metadata": {
        "id": "HX5_17o-psKz"
      },
      "execution_count": 75,
      "outputs": []
    },
    {
      "cell_type": "code",
      "source": [
        "X_train, X_validation, y_train, y_validation = train_test_split(x_train, y_train, test_size=0.2,random_state=42)"
      ],
      "metadata": {
        "id": "Bj0F-AgMpjMr"
      },
      "execution_count": 76,
      "outputs": []
    },
    {
      "cell_type": "code",
      "source": [
        "embed_dim = 32\n",
        "lstm_out = 32\n",
        "model = models.Sequential()\n",
        "model.add(layers.Embedding(max_features, embed_dim,input_length = X.shape[1]))\n",
        "model.add(layers.Dropout(0.3))\n",
        "model.add(layers.Bidirectional(layers.LSTM(lstm_out, dropout=0.3, recurrent_dropout=0.4)))\n",
        "model.add(layers.Dense(1,activation='sigmoid'))\n"
      ],
      "metadata": {
        "id": "IMr9BnD2qjVf"
      },
      "execution_count": 78,
      "outputs": []
    },
    {
      "cell_type": "code",
      "source": [
        "model.summary()"
      ],
      "metadata": {
        "colab": {
          "base_uri": "https://localhost:8080/"
        },
        "id": "BhKLk4yerCl3",
        "outputId": "2c074630-07a8-4eb3-b568-e3ae5b59f797"
      },
      "execution_count": 80,
      "outputs": [
        {
          "output_type": "stream",
          "name": "stdout",
          "text": [
            "Model: \"sequential_7\"\n",
            "_________________________________________________________________\n",
            " Layer (type)                Output Shape              Param #   \n",
            "=================================================================\n",
            " embedding_5 (Embedding)     (None, 31, 32)            96000     \n",
            "                                                                 \n",
            " dropout_5 (Dropout)         (None, 31, 32)            0         \n",
            "                                                                 \n",
            " bidirectional (Bidirectiona  (None, 64)               16640     \n",
            " l)                                                              \n",
            "                                                                 \n",
            " dense_11 (Dense)            (None, 1)                 65        \n",
            "                                                                 \n",
            "=================================================================\n",
            "Total params: 112,705\n",
            "Trainable params: 112,705\n",
            "Non-trainable params: 0\n",
            "_________________________________________________________________\n"
          ]
        }
      ]
    },
    {
      "cell_type": "code",
      "source": [
        "adam =tensorflow.keras.optimizers.Adam(learning_rate=0.002)\n",
        "model.compile(loss = 'binary_crossentropy', optimizer=adam ,metrics = ['accuracy'])"
      ],
      "metadata": {
        "id": "6VOHisrXq-uq"
      },
      "execution_count": 81,
      "outputs": []
    },
    {
      "cell_type": "code",
      "source": [
        "history = model.fit(X_train,\n",
        "                    y_train,\n",
        "                    epochs=20,\n",
        "                    batch_size=512,\n",
        "                    validation_data=(X_validation, y_validation))"
      ],
      "metadata": {
        "colab": {
          "base_uri": "https://localhost:8080/"
        },
        "id": "fg4VANmJrOcB",
        "outputId": "ea757067-c1f6-46d2-e5cf-43782704c1f8"
      },
      "execution_count": 82,
      "outputs": [
        {
          "output_type": "stream",
          "name": "stdout",
          "text": [
            "Epoch 1/20\n",
            "12/12 [==============================] - 9s 279ms/step - loss: 0.6772 - accuracy: 0.5673 - val_loss: 0.6630 - val_accuracy: 0.5739\n",
            "Epoch 2/20\n",
            "12/12 [==============================] - 3s 234ms/step - loss: 0.6233 - accuracy: 0.6389 - val_loss: 0.5705 - val_accuracy: 0.7308\n",
            "Epoch 3/20\n",
            "12/12 [==============================] - 3s 228ms/step - loss: 0.5230 - accuracy: 0.7632 - val_loss: 0.4994 - val_accuracy: 0.7853\n",
            "Epoch 4/20\n",
            "12/12 [==============================] - 3s 235ms/step - loss: 0.4291 - accuracy: 0.8080 - val_loss: 0.4483 - val_accuracy: 0.8116\n",
            "Epoch 5/20\n",
            "12/12 [==============================] - 4s 364ms/step - loss: 0.3552 - accuracy: 0.8547 - val_loss: 0.4724 - val_accuracy: 0.7991\n",
            "Epoch 6/20\n",
            "12/12 [==============================] - 5s 405ms/step - loss: 0.3219 - accuracy: 0.8709 - val_loss: 0.4597 - val_accuracy: 0.8024\n",
            "Epoch 7/20\n",
            "12/12 [==============================] - 4s 341ms/step - loss: 0.2927 - accuracy: 0.8897 - val_loss: 0.5074 - val_accuracy: 0.7873\n",
            "Epoch 8/20\n",
            "12/12 [==============================] - 3s 251ms/step - loss: 0.2766 - accuracy: 0.8970 - val_loss: 0.5040 - val_accuracy: 0.8011\n",
            "Epoch 9/20\n",
            "12/12 [==============================] - 4s 327ms/step - loss: 0.2595 - accuracy: 0.9018 - val_loss: 0.5036 - val_accuracy: 0.7899\n",
            "Epoch 10/20\n",
            "12/12 [==============================] - 3s 283ms/step - loss: 0.2500 - accuracy: 0.9095 - val_loss: 0.5557 - val_accuracy: 0.7886\n",
            "Epoch 11/20\n",
            "12/12 [==============================] - 3s 235ms/step - loss: 0.2391 - accuracy: 0.9141 - val_loss: 0.6124 - val_accuracy: 0.7754\n",
            "Epoch 12/20\n",
            "12/12 [==============================] - 3s 244ms/step - loss: 0.2274 - accuracy: 0.9171 - val_loss: 0.6009 - val_accuracy: 0.7695\n",
            "Epoch 13/20\n",
            "12/12 [==============================] - 3s 252ms/step - loss: 0.2188 - accuracy: 0.9215 - val_loss: 0.6476 - val_accuracy: 0.7649\n",
            "Epoch 14/20\n",
            "12/12 [==============================] - 3s 249ms/step - loss: 0.2114 - accuracy: 0.9213 - val_loss: 0.6335 - val_accuracy: 0.7649\n",
            "Epoch 15/20\n",
            "12/12 [==============================] - 3s 248ms/step - loss: 0.1999 - accuracy: 0.9309 - val_loss: 0.6536 - val_accuracy: 0.7669\n",
            "Epoch 16/20\n",
            "12/12 [==============================] - 3s 233ms/step - loss: 0.1922 - accuracy: 0.9332 - val_loss: 0.6836 - val_accuracy: 0.7636\n",
            "Epoch 17/20\n",
            "12/12 [==============================] - 3s 234ms/step - loss: 0.1941 - accuracy: 0.9309 - val_loss: 0.7063 - val_accuracy: 0.7597\n",
            "Epoch 18/20\n",
            "12/12 [==============================] - 3s 232ms/step - loss: 0.1779 - accuracy: 0.9368 - val_loss: 0.6840 - val_accuracy: 0.7643\n",
            "Epoch 19/20\n",
            "12/12 [==============================] - 3s 231ms/step - loss: 0.1765 - accuracy: 0.9391 - val_loss: 0.7547 - val_accuracy: 0.7610\n",
            "Epoch 20/20\n",
            "12/12 [==============================] - 3s 241ms/step - loss: 0.1734 - accuracy: 0.9409 - val_loss: 0.7170 - val_accuracy: 0.7669\n"
          ]
        }
      ]
    },
    {
      "cell_type": "code",
      "source": [
        "history_dict = history.history\n",
        "history_dict.keys()"
      ],
      "metadata": {
        "colab": {
          "base_uri": "https://localhost:8080/"
        },
        "id": "o2j7R4cirYmt",
        "outputId": "0d51da86-cf56-41a6-cf47-5d871bb80bf4"
      },
      "execution_count": 83,
      "outputs": [
        {
          "output_type": "execute_result",
          "data": {
            "text/plain": [
              "dict_keys(['loss', 'accuracy', 'val_loss', 'val_accuracy'])"
            ]
          },
          "metadata": {},
          "execution_count": 83
        }
      ]
    },
    {
      "cell_type": "code",
      "source": [
        "acc = history.history['accuracy']\n",
        "val_acc = history.history['val_accuracy']\n",
        "loss = history.history['loss']\n",
        "val_loss = history.history['val_loss']\n",
        "\n",
        "epochs = range(1, len(acc) + 1)\n",
        "\n",
        "# \"bo\" is for \"blue dot\"\n",
        "plt.plot(epochs, loss, 'bo', label='Training loss')\n",
        "# b is for \"solid blue line\"\n",
        "plt.plot(epochs, val_loss, 'b', label='Validation loss')\n",
        "plt.title('Training and validation loss')\n",
        "plt.xlabel('Epochs')\n",
        "plt.ylabel('Loss')\n",
        "plt.legend()\n",
        "\n",
        "plt.show()"
      ],
      "metadata": {
        "colab": {
          "base_uri": "https://localhost:8080/",
          "height": 295
        },
        "id": "6lfdP0yTrXTe",
        "outputId": "7fa701af-0408-4934-bf83-330f0b0562da"
      },
      "execution_count": 84,
      "outputs": [
        {
          "output_type": "display_data",
          "data": {
            "text/plain": [
              "<Figure size 432x288 with 1 Axes>"
            ],
            "image/png": "[encoded data removed]"
          },
          "metadata": {
            "needs_background": "light"
          }
        }
      ]
    }
  ]
}