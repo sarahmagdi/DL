{
  "nbformat": 4,
  "nbformat_minor": 0,
  "metadata": {
    "kernelspec": {
      "display_name": "Python 3",
      "language": "python",
      "name": "python3"
    },
    "language_info": {
      "codemirror_mode": {
        "name": "ipython",
        "version": 3
      },
      "file_extension": ".py",
      "mimetype": "text/x-python",
      "name": "python",
      "nbconvert_exporter": "python",
      "pygments_lexer": "ipython3",
      "version": "3.7.6"
    },
    "colab": {
      "name": "Copy of Copy of Polynomial_regression_regularization.ipynb",
      "provenance": [],
      "collapsed_sections": [],
      "include_colab_link": true
    }
  },
  "cells": [
    {
      "cell_type": "markdown",
      "metadata": {
        "id": "view-in-github",
        "colab_type": "text"
      },
      "source": [
        "<a href=\"https://colab.research.google.com/github/sarahmagdi/DL/blob/main/Polynomial_regression_regularization.ipynb\" target=\"_parent\"><img src=\"https://colab.research.google.com/assets/colab-badge.svg\" alt=\"Open In Colab\"/></a>"
      ]
    },
    {
      "cell_type": "markdown",
      "metadata": {
        "id": "eyjewtSBMA95"
      },
      "source": [
        "# Testing and regularization"
      ]
    },
    {
      "cell_type": "code",
      "metadata": {
        "id": "y_RXtj1eMCb3",
        "colab": {
          "base_uri": "https://localhost:8080/"
        },
        "outputId": "2fc3c1de-85b0-461f-b5e6-c14edf0404b3"
      },
      "source": [
        "!git clone https://github.com/s7s/machine_learning_1.git\n",
        "%cd  machine_learning_1/polynomial_regression"
      ],
      "execution_count": null,
      "outputs": [
        {
          "output_type": "stream",
          "name": "stdout",
          "text": [
            "Cloning into 'machine_learning_1'...\n",
            "remote: Enumerating objects: 186, done.\u001b[K\n",
            "remote: Counting objects: 100% (186/186), done.\u001b[K\n",
            "remote: Compressing objects: 100% (134/134), done.\u001b[K\n",
            "remote: Total 186 (delta 85), reused 150 (delta 49), pack-reused 0\u001b[K\n",
            "Receiving objects: 100% (186/186), 34.12 MiB | 21.03 MiB/s, done.\n",
            "Resolving deltas: 100% (85/85), done.\n",
            "/content/machine_learning_1/polynomial_regression/machine_learning_1/polynomial_regression/machine_learning_1/polynomial_regression/machine_learning_1/polynomial_regression\n"
          ]
        }
      ]
    },
    {
      "cell_type": "code",
      "metadata": {
        "id": "YpX56PtFMA-A"
      },
      "source": [
        "import pandas as pd\n",
        "import numpy as np\n",
        "import random\n",
        "import matplotlib.pyplot as plt\n",
        "random.seed(0)"
      ],
      "execution_count": null,
      "outputs": []
    },
    {
      "cell_type": "markdown",
      "metadata": {
        "id": "WBD0ZY2wMA-B"
      },
      "source": [
        "## Defining our dataset"
      ]
    },
    {
      "cell_type": "code",
      "metadata": {
        "id": "4sDgbZNRMA-C",
        "colab": {
          "base_uri": "https://localhost:8080/",
          "height": 269
        },
        "outputId": "e6fc44d3-2821-4a63-f151-fee2f8a73b8e"
      },
      "source": [
        "# Our original polynomial is -x^2+x+15\n",
        "coefs = [15,1,-1]\n",
        "\n",
        "def polynomial(coefs, x):\n",
        "    n = len(coefs)\n",
        "    return sum([coefs[i]*x**i for i in range(n)])\n",
        "\n",
        "def draw_polynomial(coefs):\n",
        "    n = len(coefs)\n",
        "    x = np.linspace(-5, 5, 1000)\n",
        "    plt.ylim(-20,20)\n",
        "    plt.plot(x, sum([coefs[i]*x**i for i in range(n)]), linestyle='-', color='black')\n",
        "\n",
        "draw_polynomial(coefs)"
      ],
      "execution_count": null,
      "outputs": [
        {
          "output_type": "display_data",
          "data": {
            "text/plain": [
              "<Figure size 432x288 with 1 Axes>"
            ],
            "image/png": "[encoded data removed]"
          },
          "metadata": {
            "needs_background": "light"
          }
        }
      ]
    },
    {
      "cell_type": "code",
      "metadata": {
        "id": "WvGqHRFCMA-E"
      },
      "source": [
        "X = []\n",
        "Y = []\n",
        "for i in range(40):\n",
        "    x = random.uniform(-5,5)\n",
        "    y = polynomial(coefs, x) + random.gauss(0,2)\n",
        "    X.append(x)\n",
        "    Y.append(y)\n",
        "X=np.array(X)\n",
        "Y=np.array(Y)"
      ],
      "execution_count": null,
      "outputs": []
    },
    {
      "cell_type": "code",
      "metadata": {
        "id": "ETQxgGiFMA-E",
        "colab": {
          "base_uri": "https://localhost:8080/",
          "height": 282
        },
        "outputId": "7677421b-48c5-49a7-fc21-cd5be407728e"
      },
      "source": [
        "plt.scatter(X, Y)\n",
        "#draw_polynomial(coefs)"
      ],
      "execution_count": null,
      "outputs": [
        {
          "output_type": "execute_result",
          "data": {
            "text/plain": [
              "<matplotlib.collections.PathCollection at 0x7f660dea9150>"
            ]
          },
          "metadata": {},
          "execution_count": 65
        },
        {
          "output_type": "display_data",
          "data": {
            "text/plain": [
              "<Figure size 432x288 with 1 Axes>"
            ],
            "image/png": "[encoded data removed]"
          },
          "metadata": {
            "needs_background": "light"
          }
        }
      ]
    },
    {
      "cell_type": "markdown",
      "metadata": {
        "id": "wLUfmV9iMA-F"
      },
      "source": [
        "## Training a polynomial regression model"
      ]
    },
    {
      "cell_type": "code",
      "metadata": {
        "id": "xsNmJ6hoGPjb",
        "colab": {
          "base_uri": "https://localhost:8080/"
        },
        "outputId": "b334e841-01f3-480c-91d8-9abeb7f7860d"
      },
      "source": [
        "for datasample in zip(X,Y):\n",
        "    print(datasample)"
      ],
      "execution_count": null,
      "outputs": [
        {
          "output_type": "stream",
          "name": "stdout",
          "text": [
            "(3.4442185152504816, 6.685961311021467)\n",
            "(-2.4108324970703663, 4.690236225597948)\n",
            "(0.11274721368608542, 12.205789026637378)\n",
            "(-1.9668727392107255, 11.133217991032268)\n",
            "(-0.23403045847644144, 10.927272159051856)\n",
            "(0.046868558173902564, 12.8584762866286)\n",
            "(-2.1816215560029617, 8.16012255928749)\n",
            "(-2.4949365863755943, 3.5061587527226514)\n",
            "(4.097462559682402, 5.933186396721837)\n",
            "(4.021659504395828, 2.454299054753137)\n",
            "(-1.8985243068066735, 8.956020414039855)\n",
            "(1.8398393191544127, 9.208004401915796)\n",
            "(-0.2785728454728664, 16.36505651355184)\n",
            "(1.1088697344380165, 16.14144978027318)\n",
            "(4.130110532378982, 4.299534274468492)\n",
            "(3.6530992777164, 4.83366913200435)\n",
            "(-2.395076896080406, 7.723543125251446)\n",
            "(-4.8595829983598104, -15.848718674227753)\n",
            "(2.1970468640395415, 9.366124268570305)\n",
            "(1.6815320123185087, 16.070558182542374)\n",
            "(-4.988571806855717, -18.893035332565795)\n",
            "(-2.5608912311286804, 6.043189895391749)\n",
            "(-1.7479563725260991, 11.091071520573042)\n",
            "(0.6751074062067186, 14.272553413210698)\n",
            "(-2.6138407138477984, 9.085321805751548)\n",
            "(-0.5203042856442961, 13.47860807272069)\n",
            "(-4.195541814474646, -7.812998091307244)\n",
            "(4.3283382422690675, 2.748647759010411)\n",
            "(-3.909421540688963, -7.163796336350065)\n",
            "(0.4744091132842376, 14.257854146830486)\n",
            "(3.14466863291336, 3.2664703661537313)\n",
            "(1.0318562796138302, 13.67662422703284)\n",
            "(0.8761706417543635, 12.57404063707232)\n",
            "(-1.1509885402733957, 13.436894195835206)\n",
            "(0.7565101416488851, 14.859288476607356)\n",
            "(-3.132704717444449, 3.3081236367340967)\n",
            "(1.1277317986860673, 13.596584816754236)\n",
            "(-4.1017563880440635, -7.821475002235993)\n",
            "(2.576039219664368, 14.181083579723474)\n",
            "(3.424602231401824, 3.5269925176080537)\n"
          ]
        }
      ]
    },
    {
      "cell_type": "markdown",
      "metadata": {
        "id": "Pze2ZphQMA-G"
      },
      "source": [
        "### Adding columns to our dataset corresponding to $x^2, x^3, \\ldots, x^{200}$"
      ]
    },
    {
      "cell_type": "code",
      "metadata": {
        "id": "c2XZgASOGfVv"
      },
      "source": [
        "from sklearn.preprocessing import PolynomialFeatures\n",
        "def addPoly(X,polyDegree):\n",
        "    ## TODO ##\n",
        "    #use sklearn (PolynomialFeatures method)\n",
        "    poly=PolynomialFeatures(polyDegree,include_bias=False)\n",
        "    X=poly.fit_transform(X.reshape(-1,1))\n",
        "\n",
        "    return X\n",
        "X_poly=addPoly(X,200)"
      ],
      "execution_count": null,
      "outputs": []
    },
    {
      "cell_type": "code",
      "metadata": {
        "id": "kKXdyM7fGzLC",
        "colab": {
          "base_uri": "https://localhost:8080/"
        },
        "outputId": "1a22d43c-6546-4ab2-ee1e-1b69554b9c78"
      },
      "source": [
        "print(X_poly.shape)\n",
        "print(X_poly[0,:])\n",
        "#print(X_poly)"
      ],
      "execution_count": null,
      "outputs": [
        {
          "output_type": "stream",
          "name": "stdout",
          "text": [
            "(40, 200)\n",
            "[3.44421852e+000 1.18626412e+001 4.08575284e+001 1.40722256e+002\n",
            " 4.84678199e+002 1.66933763e+003 5.74956356e+003 1.98027533e+004\n",
            " 6.82050095e+004 2.34912956e+005 8.09091554e+005 2.78668811e+006\n",
            " 9.59796279e+006 3.30574811e+007 1.13857189e+008 3.92149037e+008\n",
            " 1.35064697e+009 4.65192332e+009 1.60222404e+010 5.51840971e+010\n",
            " 1.90066089e+011 6.54629143e+011 2.25468581e+012 7.76563063e+012\n",
            " 2.67465288e+013 9.21208897e+013 3.17284474e+014 1.09279706e+015\n",
            " 3.76383187e+015 1.29634594e+016 4.46489869e+016 1.53780867e+017\n",
            " 5.29654911e+017 1.82424725e+018 6.28310616e+018 2.16403906e+019\n",
            " 7.45342338e+019 2.56712188e+020 8.84172871e+020 3.04528457e+021\n",
            " 1.04886255e+022 3.61251182e+022 1.24422801e+023 4.28539315e+023\n",
            " 1.47598304e+024 5.08360812e+024 1.75090572e+025 6.03050191e+025\n",
            " 2.07703663e+026 7.15376803e+026 2.46391403e+027 8.48625832e+027\n",
            " 2.92285280e+028 1.00669437e+029 3.46727540e+029 1.19420541e+030\n",
            " 4.11310440e+030 1.41664303e+031 4.87922816e+031 1.68051280e+032\n",
            " 5.78805329e+032 1.99353203e+033 6.86615993e+033 2.36485552e+034\n",
            " 8.14507916e+034 2.80534324e+035 9.66221514e+035 3.32787803e+036\n",
            " 1.14619391e+037 3.94774230e+037 1.35968871e+038 4.68306503e+038\n",
            " 1.61294993e+039 5.55535201e+039 1.91338463e+040 6.59011475e+040\n",
            " 2.26977953e+041 7.81761667e+041 2.69255801e+042 9.27375814e+042\n",
            " 3.19408495e+043 1.10011265e+044 3.78902837e+044 1.30502417e+045\n",
            " 4.49478839e+045 1.54810334e+046 5.33200619e+046 1.83645944e+047\n",
            " 6.32516762e+047 2.17852594e+048 7.50331939e+048 2.58430716e+049\n",
            " 8.90091855e+049 3.06567085e+050 1.05588403e+051 3.63669533e+051\n",
            " 1.25255734e+052 4.31408117e+052 1.48586383e+053 5.11763970e+053\n",
            " 1.76262694e+054 6.07087234e+054 2.09094109e+055 7.20165803e+055\n",
            " 2.48040839e+056 8.54306851e+056 2.94241947e+057 1.01343356e+058\n",
            " 3.49048664e+058 1.20219987e+059 4.14063906e+059 1.42612657e+060\n",
            " 4.91189154e+060 1.69176278e+061 5.82680069e+061 2.00687748e+062\n",
            " 6.91212458e+062 2.38068674e+063 8.19960536e+063 2.82412326e+064\n",
            " 9.72689763e+064 3.35015609e+065 1.15386696e+066 3.97416996e+066\n",
            " 1.36879098e+067 4.71441522e+067 1.62374762e+068 5.59254162e+068\n",
            " 1.92619354e+069 6.63423145e+069 2.28497428e+070 7.86995072e+070\n",
            " 2.71058300e+071 9.33584015e+071 3.21546735e+072 1.10747722e+073\n",
            " 3.81439354e+073 1.31376049e+074 4.52487819e+074 1.55846692e+075\n",
            " 5.36770063e+075 1.84875339e+076 6.36751066e+076 2.19310981e+077\n",
            " 7.55354941e+077 2.60160747e+078 8.96050463e+078 3.08619360e+079\n",
            " 1.06295251e+080 3.66104073e+080 1.26094243e+081 4.34296125e+081\n",
            " 1.49581075e+082 5.15189909e+082 1.77442662e+083 6.11151303e+083\n",
            " 2.10493864e+084 7.24986862e+084 2.49701317e+085 8.60025901e+085\n",
            " 2.96211713e+086 1.02021787e+087 3.51385326e+087 1.21024785e+088\n",
            " 4.16835804e+088 1.43567360e+089 4.94477358e+089 1.70308807e+090\n",
            " 5.86580747e+090 2.02031227e+091 6.95839692e+091 2.39662395e+092\n",
            " 8.25449659e+092 2.84302900e+093 9.79201312e+093 3.37258329e+094\n",
            " 1.16159138e+095 4.00077454e+095 1.37795417e+096 4.74597528e+096\n",
            " 1.63461759e+097 5.62998018e+097 1.93908820e+098 6.67864348e+098\n",
            " 2.30027075e+099 7.92263511e+099 2.72872865e+100 9.39833775e+100\n",
            " 3.23699289e+101 1.11489108e+102 3.83992852e+102 1.32255529e+103\n",
            " 4.55516942e+103 1.56889988e+104 5.40363403e+104 1.86112964e+105\n",
            " 6.41013716e+105 2.20779131e+106 7.60411570e+106 2.61902361e+107]\n"
          ]
        }
      ]
    },
    {
      "cell_type": "markdown",
      "metadata": {
        "id": "S8uYLISVMA-H"
      },
      "source": [
        "## Splitting data into training and testing"
      ]
    },
    {
      "cell_type": "code",
      "metadata": {
        "id": "fVnfiOyqMNLg",
        "colab": {
          "base_uri": "https://localhost:8080/"
        },
        "outputId": "7344cead-c6a4-4aa9-8b51-79123a12243e"
      },
      "source": [
        "from sklearn.model_selection import train_test_split\n",
        "## TODO ##\n",
        "# use sklearn (train_test_split) to split data to 80% training 20% testing\n",
        "X_train, X_test, y_train, y_test = train_test_split(X_poly, Y, test_size=0.20, random_state=42)\n",
        "print(X_train[0:2])"
      ],
      "execution_count": null,
      "outputs": [
        {
          "output_type": "stream",
          "name": "stdout",
          "text": [
            "[[ 3.42460223e+000  1.17279004e+001  4.01633940e+001  1.37543649e+002\n",
            "   4.71032287e+002  1.61309822e+003  5.52421976e+003  1.89182553e+004\n",
            "   6.47874994e+004  2.21871415e+005  7.59821343e+005  2.60208587e+006\n",
            "   8.91110907e+006  3.05170040e+007  1.04508600e+008  3.57900385e+008\n",
            "   1.22566646e+009  4.19742008e+009  1.43744942e+010  4.92269248e+010\n",
            "   1.68582637e+011  5.77328473e+011  1.97712038e+012  6.77085086e+012\n",
            "   2.31874710e+013  7.94078648e+013  2.71940351e+014  9.31287533e+014\n",
            "   3.18928936e+015  1.09220475e+016  3.74036681e+016  1.28092685e+017\n",
            "   4.38666496e+017  1.50225826e+018  5.14463699e+018  1.76183353e+019\n",
            "   6.03357905e+019  2.06626083e+020  7.07612144e+020  2.42329013e+021\n",
            "   8.29880477e+021  2.84201053e+022  9.73275562e+022  3.33308166e+023\n",
            "   1.14144789e+024  3.90900499e+024  1.33867872e+025  4.58444213e+025\n",
            "   1.56998908e+026  5.37658809e+026  1.84126756e+027  6.30560899e+027\n",
            "   2.15942026e+028  7.39515545e+028  2.53254658e+029  8.67296468e+029\n",
            "   2.97014542e+030  1.01715666e+031  3.48335698e+031  1.19291121e+032\n",
            "   4.08524639e+032  1.39903439e+033  4.79113629e+033  1.64077360e+034\n",
            "   5.61899694e+034  1.92428295e+035  6.58990367e+035  2.25677988e+036\n",
            "   7.72857342e+036  2.64672898e+037  9.06399397e+037  3.10405740e+038\n",
            "   1.06301619e+039  3.64040761e+039  1.24669480e+040  4.26943380e+040\n",
            "   1.46211125e+041  5.00714946e+041  1.71474952e+042  5.87233504e+042\n",
            "   2.01104117e+043  6.88701607e+043  2.35852906e+044  8.07702388e+044\n",
            "   2.76605940e+045  9.47265320e+045  3.24400693e+046  1.11094334e+047\n",
            "   3.80453903e+047  1.30290328e+048  4.46192549e+048  1.52803200e+049\n",
            "   5.23290180e+049  1.79206072e+050  6.13709513e+050  2.10171097e+051\n",
            "   7.19752407e+051  2.46486570e+052  8.44118458e+052  2.89076995e+053\n",
            "   9.89973723e+053  3.39026622e+054  1.16103133e+055  3.97607047e+055\n",
            "   1.36164598e+056  4.66309587e+056  1.59692485e+057  5.46883241e+057\n",
            "   1.87285757e+058  6.41379220e+058  2.19646871e+059  7.52203164e+059\n",
            "   2.57599663e+060  8.82176382e+060  3.02110321e+061  1.03460768e+062\n",
            "   3.54311976e+062  1.21337758e+063  4.15533558e+063  1.42303715e+064\n",
            "   4.87333620e+064  1.66892380e+065  5.71540018e+065  1.95729722e+066\n",
            "   6.70296443e+066  2.29549870e+067  7.86116996e+067  2.69213802e+068\n",
            "   9.21950186e+068  3.15731266e+069  1.08125400e+070  3.70286486e+070\n",
            "   1.26808393e+071  4.34268304e+071  1.48719620e+072  5.09305544e+072\n",
            "   1.74416890e+073  5.97308471e+073  2.04554392e+074  7.00517429e+074\n",
            "   2.39899355e+075  8.21559866e+075  2.81351575e+076  9.63517232e+076\n",
            "   3.29966326e+077  1.13000342e+078  3.86981222e+078  1.32525676e+079\n",
            "   4.53847725e+079  1.55424793e+080  5.32268093e+080  1.82280650e+081\n",
            "   6.24238721e+081  2.13776932e+082  7.32100957e+082  2.50715457e+083\n",
            "   8.58600714e+083  2.94036592e+084  1.00695837e+085  3.44843188e+085\n",
            "   1.18095075e+086  4.04428658e+086  1.38500728e+087  4.74309903e+087\n",
            "   1.62432275e+088  5.56265933e+088  1.90498955e+089  6.52383148e+089\n",
            "   2.23415278e+090  7.65108461e+090  2.62019214e+091  8.97311586e+091\n",
            "   3.07293526e+092  1.05235809e+093  3.60390788e+093  1.23419510e+094\n",
            "   4.22662728e+094  1.44745172e+095  4.95694639e+095  1.69755697e+096\n",
            "   5.81345738e+096  1.99087791e+097  6.81796494e+097  2.33488179e+098\n",
            "   7.99604141e+098  2.73832612e+099  9.37767775e+099  3.21148162e+100\n",
            "   1.09980471e+101  3.76639367e+101  1.28984002e+102  4.41718900e+102\n",
            "   1.51271153e+103  5.18043528e+103  1.77409302e+104  6.07556292e+104\n",
            "   2.08063863e+105  7.12535971e+105  2.44015227e+106  8.35655093e+106]\n",
            " [-2.18162156e+000  4.75947261e+000 -1.03833680e+001  2.26525796e+001\n",
            "  -4.94193559e+001  1.07814332e+002 -2.35210071e+002  5.13139361e+002\n",
            "  -1.11947589e+003  2.44227273e+003 -5.32811484e+003  1.16239302e+004\n",
            "  -2.53590167e+004  5.53237774e+004 -1.20695545e+005  2.63312004e+005\n",
            "  -5.74447143e+005  1.25322627e+006 -2.73406544e+006  5.96469611e+006\n",
            "  -1.30127096e+007  2.83888078e+007 -6.19336350e+007  1.35115753e+008\n",
            "  -2.94771440e+008  6.43079727e+008 -1.40295659e+009  3.06072035e+009\n",
            "  -6.67733349e+009  1.45674147e+010 -3.17805859e+010  6.93332112e+010\n",
            "  -1.51258828e+011  3.29989520e+011 -7.19912250e+011  1.57057608e+012\n",
            "  -3.42640264e+012  7.47511385e+012 -1.63078695e+013  3.55775997e+013\n",
            "  -7.76168583e+013  1.69330611e+014 -3.69415312e+014  8.05924407e+014\n",
            "  -1.75822206e+015  3.83577514e+015 -8.36820974e+015  1.82562667e+016\n",
            "  -3.98282651e+016  8.68902016e+016 -1.89561537e+017  4.13551535e+017\n",
            "  -9.02212943e+017  1.96828721e+018 -4.29405780e+018  9.36800905e+018\n",
            "  -2.04374505e+019  4.45867825e+019 -9.72714858e+019  2.12209570e+020\n",
            "  -4.62960973e+020  1.01000564e+021 -2.20345007e+021  4.80709417e+021\n",
            "  -1.04872603e+022  2.28792331e+022 -4.99138281e+022  1.08893083e+023\n",
            "  -2.37563498e+023  5.18273647e+023 -1.13067696e+024  2.46670923e+024\n",
            "  -5.38142603e+024  1.17402350e+025 -2.56127498e+025  5.58773271e+025\n",
            "  -1.21903181e+026  2.65946608e+026 -5.80194853e+026  1.26576560e+027\n",
            "  -2.76142151e+027  6.02437670e+027 -1.31429101e+028  2.86728559e+028\n",
            "  -6.25533205e+028  1.36467672e+029 -2.97720816e+029  6.49514150e+029\n",
            "  -1.41699407e+030  3.09134481e+030 -6.74414447e+030  1.47131710e+031\n",
            "  -3.20985709e+031  7.00269342e+031 -1.52772269e+032  3.33291276e+032\n",
            "  -7.27115431e+032  1.58629070e+033 -3.46068598e+033  7.54990714e+033\n",
            "  -1.64710402e+034  3.59335763e+034 -7.83934645e+034  1.71024872e+035\n",
            "  -3.73111548e+035  8.13988195e+035 -1.77581419e+036  3.87415452e+036\n",
            "  -8.45193902e+036  1.84389323e+037 -4.02267723e+037  8.77595935e+037\n",
            "  -1.91458221e+038  4.17689382e+038 -9.11240160e+038  1.98798117e+039\n",
            "  -4.33702258e+039  9.46174196e+039 -2.06419402e+040  4.50329017e+040\n",
            "  -9.82447491e+040  2.14332862e+041 -4.67593193e+041  1.02011139e+042\n",
            "  -2.22549700e+042  4.85519222e+042 -1.05921920e+043  2.31081544e+043\n",
            "  -5.04132478e+043  1.09982628e+044 -2.39940472e+044  5.23459306e+044\n",
            "  -1.14199011e+045  2.49139023e+045 -5.43527063e+045  1.18577036e+046\n",
            "  -2.58690217e+046  5.64364154e+046 -1.23122900e+047  2.68607574e+047\n",
            "  -5.86000073e+047  1.27843039e+048 -2.78905130e+048  6.08465443e+048\n",
            "  -1.32744133e+049  2.89597461e+049 -6.31792064e+049  1.37833119e+050\n",
            "  -3.00699703e+050  6.56012953e+050 -1.43117200e+051  3.12227569e+051\n",
            "  -6.81162394e+051  1.48603856e+052 -3.24197376e+052  7.07275984e+052\n",
            "  -1.54300853e+053  3.36626068e+053 -7.34390685e+053  1.60216255e+054\n",
            "  -3.49531235e+054  7.62544878e+054 -1.66358434e+055  3.62931146e+055\n",
            "  -7.91778412e+055  1.72736085e+056 -3.76844767e+056  8.22132666e+056\n",
            "  -1.79358235e+057  3.91291791e+057 -8.53650606e+057  1.86234256e+058\n",
            "  -4.06292668e+058  8.86376843e+058 -1.93373883e+059  4.21868631e+059\n",
            "  -9.20357699e+059  2.00787219e+060 -4.38041726e+060  9.55641272e+060\n",
            "  -2.08484760e+061  4.54834846e+061 -9.92277505e+061  2.16477400e+062\n",
            "  -4.72271761e+062  1.03031825e+063 -2.24776451e+063  4.90377152e+063\n",
            "  -1.06981736e+064  2.33393662e+064 -5.09176645e+064  1.11083074e+065\n",
            "  -2.42341230e+065  5.28696850e+065 -1.15341645e+066  2.51631818e+066\n",
            "  -5.48965398e+066  1.19763475e+067 -2.61278578e+067  5.70010978e+067]]\n"
          ]
        }
      ]
    },
    {
      "cell_type": "code",
      "metadata": {
        "id": "WmHYknzXMA-I"
      },
      "source": [
        "from sklearn.metrics import mean_squared_error\n",
        "def display_results(model):\n",
        "    coefs = [model.intercept_]\n",
        "    coefs += list(model.coef_)\n",
        "    ytrain_predict=model.predict(X_train)\n",
        "    ytest_predict=model.predict(X_test)\n",
        "    train_error=np.sqrt(mean_squared_error(y_train,ytrain_predict))\n",
        "    test_error=np.sqrt(mean_squared_error(y_test,ytest_predict))\n",
        "    print(\"Training error (rmse):\", train_error)\n",
        "    print(\"Testing error (rmse):\", test_error)\n",
        "    plt.scatter(X_train[:,0], y_train, marker='o')\n",
        "    plt.scatter(X_test[:,0], y_test, marker='^')\n",
        "    draw_polynomial(coefs)\n",
        "    plt.show()\n",
        "    print(\"Polynomial coefficients\")\n",
        "    print(coefs)"
      ],
      "execution_count": null,
      "outputs": []
    },
    {
      "cell_type": "markdown",
      "metadata": {
        "id": "G9x4Q5S3MA-I"
      },
      "source": [
        "## Training a polynomial regression model with no regularization"
      ]
    },
    {
      "cell_type": "code",
      "metadata": {
        "id": "QKm7sV7JMA-J",
        "colab": {
          "base_uri": "https://localhost:8080/"
        },
        "outputId": "6ee95f6f-a885-4b36-eccb-dedce3e53fa2"
      },
      "source": [
        "from sklearn.linear_model import LinearRegression\n",
        "## TODO ##\n",
        "# use sklearn linear regression to fit the data \n",
        "# normalization trick ;)\n",
        "\n",
        "model_no_reg = LinearRegression(normalize=True).fit(X_poly,Y )\n",
        "\n"
      ],
      "execution_count": null,
      "outputs": [
        {
          "output_type": "stream",
          "name": "stderr",
          "text": [
            "/usr/local/lib/python3.7/dist-packages/sklearn/linear_model/_base.py:145: FutureWarning: 'normalize' was deprecated in version 1.0 and will be removed in 1.2.\n",
            "If you wish to scale the data, use Pipeline with a StandardScaler in a preprocessing stage. To reproduce the previous behavior:\n",
            "\n",
            "from sklearn.pipeline import make_pipeline\n",
            "\n",
            "model = make_pipeline(StandardScaler(with_mean=False), LinearRegression())\n",
            "\n",
            "If you wish to pass a sample_weight parameter, you need to pass it as a fit parameter to each step of the pipeline as follows:\n",
            "\n",
            "kwargs = {s[0] + '__sample_weight': sample_weight for s in model.steps}\n",
            "model.fit(X, y, **kwargs)\n",
            "\n",
            "\n",
            "  FutureWarning,\n"
          ]
        }
      ]
    },
    {
      "cell_type": "code",
      "metadata": {
        "id": "uje8MamakgwD",
        "colab": {
          "base_uri": "https://localhost:8080/",
          "height": 358
        },
        "outputId": "3e9d403f-3d27-4dba-b6cc-0be1558c9331"
      },
      "source": [
        "display_results(model_no_reg)"
      ],
      "execution_count": null,
      "outputs": [
        {
          "output_type": "stream",
          "name": "stdout",
          "text": [
            "Training error (rmse): 0.5446124974582633\n",
            "Testing error (rmse): 1.0992697263661075\n"
          ]
        },
        {
          "output_type": "display_data",
          "data": {
            "text/plain": [
              "<Figure size 432x288 with 1 Axes>"
            ],
            "image/png": "[encoded data removed]"
          },
          "metadata": {
            "needs_background": "light"
          }
        },
        {
          "output_type": "stream",
          "name": "stdout",
          "text": [
            "Polynomial coefficients\n",
            "[11.201212734816135, 11.815729645989112, 50.25204503777225, -224.14128906841293, -80.11542160572384, 1053.659892297145, -529.7076477079706, -1728.0639738093812, 1344.6845691089295, 1401.4848986752736, -1326.47674517551, -650.6819798205263, 720.4441008100384, 182.3387980989225, -240.7576539230828, -30.067132510761407, 51.472133364789194, 2.3460443415270915, -6.991400043615808, 0.061915451789176, 0.5635293384865743, -0.028377342964886546, -0.0208233476546168, 0.001872405673319225, -0.000207493649022479, 2.2851665881700563e-06, 2.916671517836164e-05, -3.1378052565874934e-06, 5.700407170984039e-07, -5.485566773504406e-08, -2.6428171696085656e-08, 3.291373246003328e-09, -1.5908000006940977e-09, 2.1029683992258975e-10, -2.7284899895592862e-11, 4.634584272154912e-12, 8.563280772869513e-13, -7.55565137890426e-14, 7.781701239937806e-14, -1.1023596829572058e-14, 3.040402386212895e-15, -5.465605823391868e-16, 7.144969850636476e-17, -1.7661771726520688e-17, 3.3360704970500037e-19, -3.358618543281575e-19, -6.910101128644899e-20, 3.963590903205027e-21, -4.737201507060192e-21, 7.575505405154186e-22, -2.149548509887726e-22, 4.6860638413450357e-23, -8.116919335095014e-24, 2.185029121158549e-24, -2.7207497244240254e-25, 8.67179096070941e-26, -8.287265025495918e-27, 3.05129585855926e-27, -2.31444203870435e-28, 9.488104496405708e-29, -5.802766852508487e-30, 2.5227854847325678e-30, -1.2027654764428896e-31, 4.8916082827820026e-32, -1.4318348536836933e-33, 2.9354211633796317e-35, 4.5538832136140364e-35, -6.491964094941614e-35, 4.996737881115579e-36, -4.75043770154222e-36, 2.929714449252823e-37, -2.5506260136470016e-37, 1.5101665391734825e-38, -1.1966653347081068e-38, 7.0328873414907874e-40, -5.236221927423389e-40, 3.182462904421475e-41, -2.1789250253620567e-41, 1.3896561303655936e-42, -8.777664671110177e-43, 5.999178721909602e-44, -3.4391775380574875e-44, 2.5321286330815056e-45, -1.3237874473816832e-45, 1.0503310310926056e-46, -5.028523404422495e-47, 4.3140343143968334e-48, -1.8843762960045883e-48, 1.739990902483482e-49, -7.0409225623275855e-50, 6.91840196200243e-51, -2.60058618695068e-51, 2.7415504173631214e-52, -9.553656934465873e-53, 1.0710804881654058e-53, -3.48727262227214e-54, 4.116504303189232e-55, -1.2689272032486071e-55, 1.5747938502079469e-56, -4.596413174277386e-57, 6.022661767292046e-58, -1.6614997196548626e-58, 2.242767597031661e-59, -5.973560833392845e-60, 8.448859217336726e-61, -2.132792589519623e-61, 3.089119431965042e-62, -7.617140218528709e-63, 1.1298460623975263e-63, -2.6889876969713523e-64, 4.080957574940235e-65, -9.423233810670222e-66, 1.4601919348974812e-66, -3.2713009495888474e-67, 5.103015735176879e-68, -1.132279407432e-68, 1.7810360656826495e-69, -3.871686422548961e-70, 6.104084104297707e-71, -1.287008346601682e-71, 2.0177572390445804e-72, -4.1267303790886676e-73, 6.154145472852726e-74, -1.2557793049971817e-74, 1.9019590343795421e-75, -3.637845466660938e-76, 4.929497742851525e-77, -8.708983087564923e-78, 1.118877010484756e-78, -1.7260332820820347e-79, 4.139087224588239e-81, 1.350910384877368e-81, -1.4191000127993193e-81, 3.2925130166880286e-82, -1.0259523623276793e-82, 2.5661630494838362e-83, -6.170177045914841e-84, 1.4262469087959775e-84, -3.482669057569122e-85, 7.156090560936566e-86, -1.6425603567155612e-86, 3.5758962569734184e-87, -8.036601971504202e-88, 1.7031433451464339e-88, -3.633687411994748e-89, 7.367381493623714e-90, -1.5959479056582931e-90, 3.3614730274391745e-91, -7.20512977008048e-92, 1.497087915961265e-92, -3.141623343414718e-93, 6.513941369492984e-94, -1.3626073324926334e-94, 2.7939977270716687e-95, -5.829175933697782e-96, 1.1940444258228568e-96, -2.4732281933691544e-97, 5.082835830484009e-98, -1.0344162464448428e-98, 2.16206628116721e-99, -4.4007439715458477e-100, 9.133280087713457e-101, -1.8585656873041336e-101, 3.8155812250741666e-102, -7.761500977353235e-103, 1.5652979448884235e-103, -3.2127583492536223e-104, 6.49071716160548e-105, -1.3304658889531833e-105, 2.706815835085236e-106, -5.531001122181854e-107, 1.1369672008600265e-107, -2.2800210016158607e-108, 4.612645411057475e-109, -9.427036795315821e-110, 1.9082381387745458e-110, -3.827565834661035e-111, 7.91974501059818e-112, -1.5871280507705384e-112, 3.221521621810406e-113, -6.512522692404428e-114, 1.318466833093715e-114, -2.7062303679818153e-115, 5.400930179414461e-116, -1.0890468028266554e-116, 2.222743360370828e-117, -4.477479233343114e-118, 9.032863005040954e-119, -1.837355173337717e-119, 3.678353036070194e-120, -7.472265924529603e-121, 1.4915582715495667e-121, -3.0321834322072486e-122, 6.13849291083633e-123, -1.2351881507267345e-123, 2.489238023245867e-124, -4.997735837114139e-125, 1.0049587929001152e-125, -2.019149670512874e-126, 4.10016615399924e-127, -8.302442283487342e-128]\n"
          ]
        }
      ]
    },
    {
      "cell_type": "markdown",
      "metadata": {
        "id": "TLTU-3ojMA-J"
      },
      "source": [
        "## Training a polynomial regression model with L1 regularization"
      ]
    },
    {
      "cell_type": "code",
      "metadata": {
        "id": "sBfyPNvMMA-J",
        "colab": {
          "base_uri": "https://localhost:8080/"
        },
        "outputId": "3de01fa0-ef78-47af-b0de-ee35879643a2"
      },
      "source": [
        "from sklearn import linear_model\n",
        "## TODO ##\n",
        "# use sklearn Lasso (linear regression with L1 Norm) to fit the data \n",
        "# normalization trick ;)\n",
        "\n",
        "model_L1_reg = linear_model.Lasso(alpha=0.001,normalize=True)\n",
        "model_L1_reg.fit(X_poly,Y )\n",
        "print(model_L1_reg.coef_)\n",
        "#fit_intercept when equal false we inform model to make bais = 0 no bais not add 1 columns to feature "
      ],
      "execution_count": null,
      "outputs": [
        {
          "output_type": "stream",
          "name": "stdout",
          "text": [
            "[ 5.82000920e-001 -8.36282743e-001  0.00000000e+000 -1.76586327e-002\n",
            "  1.17950608e-003  0.00000000e+000  9.33108747e-005  3.28094110e-005\n",
            "  6.62160858e-008  2.13650564e-007  0.00000000e+000  0.00000000e+000\n",
            "  0.00000000e+000  0.00000000e+000 -0.00000000e+000  0.00000000e+000\n",
            " -0.00000000e+000 -0.00000000e+000 -0.00000000e+000 -0.00000000e+000\n",
            " -0.00000000e+000 -0.00000000e+000 -0.00000000e+000 -0.00000000e+000\n",
            "  0.00000000e+000 -0.00000000e+000  0.00000000e+000 -0.00000000e+000\n",
            "  0.00000000e+000 -0.00000000e+000  0.00000000e+000 -0.00000000e+000\n",
            "  0.00000000e+000 -0.00000000e+000  0.00000000e+000 -0.00000000e+000\n",
            "  0.00000000e+000 -0.00000000e+000  0.00000000e+000 -0.00000000e+000\n",
            "  0.00000000e+000 -0.00000000e+000  0.00000000e+000 -0.00000000e+000\n",
            "  0.00000000e+000 -0.00000000e+000  0.00000000e+000 -0.00000000e+000\n",
            "  0.00000000e+000 -0.00000000e+000  0.00000000e+000 -0.00000000e+000\n",
            "  0.00000000e+000 -0.00000000e+000  0.00000000e+000 -0.00000000e+000\n",
            "  0.00000000e+000 -0.00000000e+000  0.00000000e+000 -0.00000000e+000\n",
            "  0.00000000e+000 -0.00000000e+000  0.00000000e+000 -0.00000000e+000\n",
            "  0.00000000e+000 -0.00000000e+000  0.00000000e+000 -0.00000000e+000\n",
            "  0.00000000e+000 -0.00000000e+000  0.00000000e+000 -0.00000000e+000\n",
            "  0.00000000e+000 -0.00000000e+000  0.00000000e+000 -0.00000000e+000\n",
            "  0.00000000e+000 -0.00000000e+000  0.00000000e+000 -0.00000000e+000\n",
            "  0.00000000e+000 -0.00000000e+000  0.00000000e+000 -0.00000000e+000\n",
            "  0.00000000e+000 -0.00000000e+000  0.00000000e+000 -0.00000000e+000\n",
            "  0.00000000e+000 -0.00000000e+000  0.00000000e+000 -0.00000000e+000\n",
            "  0.00000000e+000 -0.00000000e+000  0.00000000e+000 -0.00000000e+000\n",
            "  0.00000000e+000 -0.00000000e+000  0.00000000e+000 -0.00000000e+000\n",
            "  0.00000000e+000 -0.00000000e+000  0.00000000e+000 -0.00000000e+000\n",
            "  0.00000000e+000 -0.00000000e+000  0.00000000e+000 -0.00000000e+000\n",
            "  0.00000000e+000 -0.00000000e+000  0.00000000e+000 -0.00000000e+000\n",
            "  0.00000000e+000 -0.00000000e+000  0.00000000e+000 -0.00000000e+000\n",
            "  0.00000000e+000 -0.00000000e+000  0.00000000e+000 -0.00000000e+000\n",
            "  2.27139409e-087 -4.11349504e-087  8.00990995e-088 -1.56586105e-088\n",
            "  3.05047829e-089 -5.96131940e-090  1.16176169e-090 -2.26972726e-091\n",
            "  4.42463905e-092 -8.64257305e-093  1.68520388e-093 -3.29114622e-094\n",
            "  6.41863046e-095 -1.25338121e-095  2.44482989e-096 -4.77362852e-097\n",
            "  9.31262105e-098 -1.81819893e-098  3.54741979e-099 -6.92563625e-100\n",
            "  1.35135900e-100 -2.63816432e-101  5.14809243e-102 -1.00500091e-102\n",
            "  1.96127815e-103 -3.82870778e-104  7.47220882e-105 -1.45867311e-105\n",
            "  2.84692085e-106 -5.55754069e-107  1.08472071e-107 -2.11750899e-108\n",
            "  4.13310215e-109 -8.06835325e-110  1.57488740e-110 -3.07440250e-111\n",
            "  6.00119189e-112 -1.17152600e-112  2.28686024e-113 -4.46434535e-114\n",
            "  8.71475738e-115 -1.70128695e-115  3.32111572e-116 -6.48351669e-117\n",
            "  1.26568379e-117 -2.47090666e-118  4.82367906e-119 -9.41703294e-120\n",
            "  1.83841292e-120 -3.58908145e-121  7.00678345e-122 -1.36792874e-122\n",
            "  2.67057524e-123 -5.21379615e-124  1.01789027e-124 -1.98725933e-125\n",
            "  3.87977628e-126 -7.57468354e-127  1.47884118e-127 -2.88724373e-128\n",
            "  5.63696197e-129 -1.10055303e-129  2.14870595e-130 -4.19514204e-131\n",
            "  8.19062023e-132 -1.59915345e-132  3.12222463e-133 -6.09594464e-134\n",
            "  1.19019657e-134 -2.32380101e-135  4.53711825e-136 -8.85856883e-137\n",
            "  1.72960936e-137 -3.37702734e-138  6.59359350e-139 -1.28739454e-139\n",
            "  2.51363506e-140 -4.90788671e-141  9.58270037e-142 -1.87103923e-142]\n"
          ]
        },
        {
          "output_type": "stream",
          "name": "stderr",
          "text": [
            "/usr/local/lib/python3.7/dist-packages/sklearn/linear_model/_base.py:145: FutureWarning: 'normalize' was deprecated in version 1.0 and will be removed in 1.2.\n",
            "If you wish to scale the data, use Pipeline with a StandardScaler in a preprocessing stage. To reproduce the previous behavior:\n",
            "\n",
            "from sklearn.pipeline import make_pipeline\n",
            "\n",
            "model = make_pipeline(StandardScaler(with_mean=False), Lasso())\n",
            "\n",
            "If you wish to pass a sample_weight parameter, you need to pass it as a fit parameter to each step of the pipeline as follows:\n",
            "\n",
            "kwargs = {s[0] + '__sample_weight': sample_weight for s in model.steps}\n",
            "model.fit(X, y, **kwargs)\n",
            "\n",
            "Set parameter alpha to: original_alpha * np.sqrt(n_samples). \n",
            "  FutureWarning,\n",
            "/usr/local/lib/python3.7/dist-packages/sklearn/linear_model/_coordinate_descent.py:648: ConvergenceWarning: Objective did not converge. You might want to increase the number of iterations, check the scale of the features or consider increasing regularisation. Duality gap: 1.935e+00, tolerance: 2.748e-01\n",
            "  coef_, l1_reg, l2_reg, X, y, max_iter, tol, rng, random, positive\n"
          ]
        }
      ]
    },
    {
      "cell_type": "code",
      "metadata": {
        "id": "LOYlQsU5MA-K",
        "colab": {
          "base_uri": "https://localhost:8080/",
          "height": 358
        },
        "outputId": "e672170a-3a53-4e4b-b2cf-a80224a1a14c"
      },
      "source": [
        "display_results(model_L1_reg)"
      ],
      "execution_count": null,
      "outputs": [
        {
          "output_type": "stream",
          "name": "stdout",
          "text": [
            "Training error (rmse): 1.8482868532292012\n",
            "Testing error (rmse): 1.9231433545698244\n"
          ]
        },
        {
          "output_type": "display_data",
          "data": {
            "text/plain": [
              "<Figure size 432x288 with 1 Axes>"
            ],
            "image/png": "[encoded data removed]"
          },
          "metadata": {
            "needs_background": "light"
          }
        },
        {
          "output_type": "stream",
          "name": "stdout",
          "text": [
            "Polynomial coefficients\n",
            "[14.075352890572924, 0.5820009195780005, -0.8362827434323801, 0.0, -0.01765863273260461, 0.0011795060833611854, 0.0, 9.331087469073496e-05, 3.280941098867239e-05, 6.621608584459317e-08, 2.1365056430792283e-07, 0.0, 0.0, 0.0, 0.0, -0.0, 0.0, -0.0, -0.0, -0.0, -0.0, -0.0, -0.0, -0.0, -0.0, 0.0, -0.0, 0.0, -0.0, 0.0, -0.0, 0.0, -0.0, 0.0, -0.0, 0.0, -0.0, 0.0, -0.0, 0.0, -0.0, 0.0, -0.0, 0.0, -0.0, 0.0, -0.0, 0.0, -0.0, 0.0, -0.0, 0.0, -0.0, 0.0, -0.0, 0.0, -0.0, 0.0, -0.0, 0.0, -0.0, 0.0, -0.0, 0.0, -0.0, 0.0, -0.0, 0.0, -0.0, 0.0, -0.0, 0.0, -0.0, 0.0, -0.0, 0.0, -0.0, 0.0, -0.0, 0.0, -0.0, 0.0, -0.0, 0.0, -0.0, 0.0, -0.0, 0.0, -0.0, 0.0, -0.0, 0.0, -0.0, 0.0, -0.0, 0.0, -0.0, 0.0, -0.0, 0.0, -0.0, 0.0, -0.0, 0.0, -0.0, 0.0, -0.0, 0.0, -0.0, 0.0, -0.0, 0.0, -0.0, 0.0, -0.0, 0.0, -0.0, 0.0, -0.0, 0.0, -0.0, 2.271394085179008e-87, -4.113495039400078e-87, 8.009909946076156e-88, -1.5658610527026877e-88, 3.0504782862939607e-89, -5.961319402787776e-90, 1.1617616850906923e-90, -2.2697272620659546e-91, 4.424639049745927e-92, -8.642573048668578e-93, 1.6852038841279837e-93, -3.291146222319663e-94, 6.418630463934061e-95, -1.253381205011848e-95, 2.4448298937813523e-96, -4.773628523770828e-97, 9.312621051057596e-98, -1.8181989319383805e-98, 3.547419792782069e-99, -6.925636251382146e-100, 1.351358995650785e-100, -2.6381643168414745e-101, 5.14809242581791e-102, -1.005000905667676e-102, 1.9612781451130813e-103, -3.8287077811328007e-104, 7.472208824418507e-105, -1.4586731072416828e-105, 2.8469208518171956e-106, -5.557540691998483e-107, 1.0847207096853014e-107, -2.1175089949079602e-108, 4.1331021458564845e-109, -8.068353247036457e-110, 1.5748873964488515e-110, -3.074402501763525e-111, 6.001191894745601e-112, -1.1715260037120842e-112, 2.2868602427329318e-113, -4.464345345061378e-114, 8.714757381003988e-115, -1.7012869518789437e-115, 3.32111571846339e-116, -6.483516694963202e-117, 1.2656837850290279e-117, -2.470906655303711e-118, 4.823679059181244e-119, -9.417032936851172e-120, 1.838412918664486e-120, -3.589081453927642e-121, 7.006783448048958e-122, -1.3679287358158315e-122, 2.6705752422864845e-123, -5.213796146200225e-124, 1.017890274917267e-124, -1.9872593252185907e-125, 3.879776275275457e-126, -7.574683536021638e-127, 1.478841182929536e-127, -2.8872437265227156e-128, 5.636961973835432e-129, -1.1005530329268843e-129, 2.148705945435009e-130, -4.1951420400530524e-131, 8.190620227166455e-132, -1.5991534543758344e-132, 3.122224627491101e-133, -6.095944639139945e-134, 1.190196572204159e-134, -2.3238010051846564e-135, 4.5371182481660776e-136, -8.858568828168641e-137, 1.729609360616374e-137, -3.377027335581668e-138, 6.593593496923617e-139, -1.287394539562145e-139, 2.5136350565733275e-140, -4.9078867068636616e-141, 9.582700365871277e-142, -1.871039230058206e-142]\n"
          ]
        }
      ]
    },
    {
      "cell_type": "markdown",
      "metadata": {
        "id": "21v4zgmbMA-K"
      },
      "source": [
        "## Training a polynomial regression model with L2 regularization"
      ]
    },
    {
      "cell_type": "code",
      "metadata": {
        "id": "MrSeiPXPMA-K",
        "colab": {
          "base_uri": "https://localhost:8080/"
        },
        "outputId": "9a48d7e1-4387-4b87-d360-8248e9711cae"
      },
      "source": [
        "from sklearn import linear_model\n",
        "## TODO ##\n",
        "# use sklearn Ridge (linear regression with L2 Norm) to fit the data \n",
        "# normalization trick ;)\n",
        "\n",
        "model_L2_reg = linear_model.Ridge(alpha=0.01,normalize=True)\n",
        "model_L2_reg.fit(X_poly,Y )"
      ],
      "execution_count": null,
      "outputs": [
        {
          "output_type": "stream",
          "name": "stderr",
          "text": [
            "/usr/local/lib/python3.7/dist-packages/sklearn/linear_model/_base.py:145: FutureWarning: 'normalize' was deprecated in version 1.0 and will be removed in 1.2.\n",
            "If you wish to scale the data, use Pipeline with a StandardScaler in a preprocessing stage. To reproduce the previous behavior:\n",
            "\n",
            "from sklearn.pipeline import make_pipeline\n",
            "\n",
            "model = make_pipeline(StandardScaler(with_mean=False), Ridge())\n",
            "\n",
            "If you wish to pass a sample_weight parameter, you need to pass it as a fit parameter to each step of the pipeline as follows:\n",
            "\n",
            "kwargs = {s[0] + '__sample_weight': sample_weight for s in model.steps}\n",
            "model.fit(X, y, **kwargs)\n",
            "\n",
            "Set parameter alpha to: original_alpha * n_samples. \n",
            "  FutureWarning,\n"
          ]
        },
        {
          "output_type": "execute_result",
          "data": {
            "text/plain": [
              "Ridge(alpha=0.01, normalize=True)"
            ]
          },
          "metadata": {},
          "execution_count": 75
        }
      ]
    },
    {
      "cell_type": "code",
      "metadata": {
        "id": "TyLoFFM_MA-L",
        "colab": {
          "base_uri": "https://localhost:8080/",
          "height": 358
        },
        "outputId": "8f10b46f-0328-4fcf-c71c-06e9f94f223f"
      },
      "source": [
        "display_results(model_L2_reg)"
      ],
      "execution_count": null,
      "outputs": [
        {
          "output_type": "stream",
          "name": "stdout",
          "text": [
            "Training error (rmse): 1.8597304969249662\n",
            "Testing error (rmse): 1.9196661352962394\n"
          ]
        },
        {
          "output_type": "display_data",
          "data": {
            "text/plain": [
              "<Figure size 432x288 with 1 Axes>"
            ],
            "image/png": "[encoded data removed]"
          },
          "metadata": {
            "needs_background": "light"
          }
        },
        {
          "output_type": "stream",
          "name": "stdout",
          "text": [
            "Polynomial coefficients\n",
            "[13.894610834799428, 0.574076894986718, -0.7850343124471739, 0.005477614606647418, -0.015849695168011067, 0.0008599944586837857, -5.542866556193113e-05, 5.141060603855025e-05, 8.650631167154516e-06, 1.8427715234701938e-06, 4.501476460411008e-07, 4.675271336780304e-08, 1.5928123330568218e-08, 7.598296614334368e-10, 4.739013762926804e-10, -2.681362420214534e-12, 1.2399613390842214e-11, -9.035747662844096e-13, 2.790657148374957e-13, -5.1007087552297766e-14, 4.662021337757964e-15, -2.1727836355626333e-15, 4.4573833321741444e-18, -8.114922939415548e-17, -4.618825886419102e-18, -2.787420329701313e-18, -3.026557450742376e-19, -8.964805093700887e-20, -1.471992520565574e-20, -2.707202102232404e-21, -6.359471827927174e-22, -7.591874947506051e-23, -2.5819529836572227e-23, -1.9087065967151838e-24, -1.0104939829038562e-24, -3.857428962037882e-26, -3.8652579242335403e-26, -3.1783062208314774e-28, -1.4572034355698898e-27, 2.5910919720991147e-29, -5.443965403844916e-29, 2.2204634707448032e-30, -2.022774749104888e-30, 1.2401019496627926e-31, -7.493670459313701e-32, 5.9671658948565464e-33, -2.7725787066256386e-33, 2.659926189536986e-34, -1.0256293428443146e-34, 1.1319289405018215e-35, -3.795809263350715e-36, 4.670069358364683e-37, -1.4059829019524414e-37, 1.8849005051680323e-38, -5.212824489125602e-39, 7.484865854503221e-40, -1.934502124160283e-40, 2.9353591327780067e-41, -7.184653583718493e-42, 1.1399025695963944e-42, -2.6698612956580775e-43, 4.391595622586896e-44, -9.924387894303137e-45, 1.6808103097756817e-45, -3.689141122174683e-46, 6.397198432677641e-47, -1.3709491071331882e-47, 2.4229811689071994e-48, -5.091626006818102e-49, 9.137408602404544e-50, -1.8892650974569853e-50, 3.432107881999736e-51, -7.001479240299683e-52, 1.2842723190541239e-52, -2.590609291625939e-53, 4.788009151191944e-54, -9.567020407823782e-55, 1.7784964304320313e-55, -3.524931111028499e-56, 6.581234364419475e-57, -1.2952225260293007e-57, 2.4256703440045076e-58, -4.744130333021408e-59, 8.90214988678455e-60, -1.7312344771292839e-60, 3.251731196507155e-61, -6.290282838291123e-62, 1.1815409606267147e-62, -2.2739055845434325e-63, 4.267568821577869e-64, -8.17072757790162e-65, 1.5307229610075511e-65, -2.9149401562443714e-66, 5.4457030181191784e-67, -1.0309264465157063e-67, 1.9183524951275903e-68, -3.607377351889797e-69, 6.676245891438972e-70, -1.245489146308611e-70, 2.288111010976592e-71, -4.2266056454796523e-72, 7.686520860855654e-73, -1.4016329158631804e-73, 2.512748620261218e-74, -4.500507151923352e-75, 7.897789977729753e-76, -1.3768498828788403e-76, 2.3340096863646328e-77, -3.8866234326833157e-78, 6.174312682090716e-79, -9.340299825583e-80, 1.2581579850965566e-80, -1.3592227388358952e-81, 3.896589110263378e-83, 3.668113666343577e-83, -1.6235823854040232e-83, 4.955735931881526e-84, -1.3314986313239223e-84, 3.319154895850358e-85, -7.94075442299701e-86, 1.8400865910971207e-86, -4.17886567175427e-87, 9.324944971387527e-88, -2.056028691515971e-88, 4.48337265106175e-89, -9.698917611013894e-90, 2.0823380765406555e-90, -4.4454059778028954e-91, 9.438158541133276e-92, -1.9953129625024147e-92, 4.200813930958289e-93, -8.814829359122554e-94, 1.843696010226208e-94, -3.846009261824294e-95, 8.00216103676714e-96, -1.6613443896299286e-96, 3.4418674098418267e-97, -7.11773885451948e-98, 1.4693576432087653e-98, -3.02864628259361e-99, 6.233431060748327e-100, -1.2812614209953734e-100, 2.6302704479554132e-101, -5.393522896449781e-102, 1.1047713539225923e-102, -2.260710595795105e-103, 4.621753989592705e-104, -9.440470295648405e-105, 1.926727995953322e-105, -3.92930583029416e-106, 8.007435728906569e-107, -1.6307096336507556e-107, 3.3187731711796117e-108, -6.750182052837951e-109, 1.37214930441129e-109, -2.78773332155334e-110, 5.66076249747882e-111, -1.1489098518303383e-111, 2.3307364408083747e-112, -4.726155438248712e-113, 9.579403030304505e-114, -1.9408603535619094e-114, 3.9308160422628262e-115, -7.958151294098024e-116, 1.6106055089267677e-116, -3.258524865286249e-117, 6.5904278666389885e-118, -1.3325187695418164e-118, 2.693428732908467e-119, -5.4427169291370645e-120, 1.099534562541328e-120, -2.220700204172917e-121, 4.4839753278694913e-122, -9.051763787480712e-123, 1.8268540490175403e-123, -3.6862021228023603e-124, 7.436398593596196e-125, -1.4998851409871135e-125, 3.02460331508221e-126, -6.098136990957695e-127, 1.2292698397413062e-127, -2.477544816055278e-128, 4.99255394045907e-129, -1.0058972981097905e-129, 2.0263601146965367e-130, -4.081447024841604e-131, 8.219559124080537e-132, -1.6550912181145484e-132, 3.332241633288767e-133, -6.70801798040332e-134, 1.3501967334933289e-134, -2.7173580215131722e-135, 5.4682129243805085e-136, -1.1002577559233456e-136, 2.2135817307813325e-137, -4.452976178773909e-138, 8.95695473496042e-139, -1.8014700571014124e-139, 3.6228618626454194e-140, -7.285106642164358e-141, 1.4648081860670233e-141]\n"
          ]
        }
      ]
    },
    {
      "cell_type": "markdown",
      "metadata": {
        "id": "1EsLoBMqMA-L"
      },
      "source": [
        "## Viewing the predictions in the testing set"
      ]
    },
    {
      "cell_type": "code",
      "metadata": {
        "id": "TPp6zYZ6MA-L",
        "colab": {
          "base_uri": "https://localhost:8080/",
          "height": 300
        },
        "outputId": "bae791a3-fc3e-410c-98a9-94266a09e996"
      },
      "source": [
        "import pandas as pd\n",
        "from IPython.display import display\n",
        "predictions={}\n",
        "predictions ['x']=X_test[:,0]\n",
        "predictions ['y']=y_test\n",
        "predictions['No reg'] = model_no_reg.predict(X_test)\n",
        "predictions['L1 reg'] = model_L1_reg.predict(X_test)\n",
        "predictions['L2 reg'] = model_L2_reg.predict(X_test)\n",
        "predictions=pd.DataFrame.from_dict(predictions)\n",
        "display(predictions)"
      ],
      "execution_count": null,
      "outputs": [
        {
          "output_type": "display_data",
          "data": {
            "text/plain": [
              "          x          y     No reg     L1 reg     L2 reg\n",
              "0  1.681532  16.070558  16.057553  12.569741  12.552660\n",
              "1 -2.395077   7.723543   6.596307   7.204626   7.325401\n",
              "2  3.653099   4.833669   4.843145   4.612521   4.733279\n",
              "3 -4.195542  -7.812998  -7.803609  -8.742979  -8.809630\n",
              "4 -0.234030  10.927272  13.069275  13.893290  13.717144\n",
              "5 -0.278573  16.365057  14.413702  13.848217  13.673552\n",
              "6 -4.101756  -7.821475  -7.814809  -7.677439  -7.696436\n",
              "7  4.328338   2.748648   2.760417   3.746939   3.697463"
            ],
            "text/html": [
              "\n",
              "  <div id=\"df-679eecfb-b0a8-4b8c-b315-187b4f4b39da\">\n",
              "    <div class=\"colab-df-container\">\n",
              "      <div>\n",
              "<style scoped>\n",
              "    .dataframe tbody tr th:only-of-type {\n",
              "        vertical-align: middle;\n",
              "    }\n",
              "\n",
              "    .dataframe tbody tr th {\n",
              "        vertical-align: top;\n",
              "    }\n",
              "\n",
              "    .dataframe thead th {\n",
              "        text-align: right;\n",
              "    }\n",
              "</style>\n",
              "<table border=\"1\" class=\"dataframe\">\n",
              "  <thead>\n",
              "    <tr style=\"text-align: right;\">\n",
              "      <th></th>\n",
              "      <th>x</th>\n",
              "      <th>y</th>\n",
              "      <th>No reg</th>\n",
              "      <th>L1 reg</th>\n",
              "      <th>L2 reg</th>\n",
              "    </tr>\n",
              "  </thead>\n",
              "  <tbody>\n",
              "    <tr>\n",
              "      <th>0</th>\n",
              "      <td>1.681532</td>\n",
              "      <td>16.070558</td>\n",
              "      <td>16.057553</td>\n",
              "      <td>12.569741</td>\n",
              "      <td>12.552660</td>\n",
              "    </tr>\n",
              "    <tr>\n",
              "      <th>1</th>\n",
              "      <td>-2.395077</td>\n",
              "      <td>7.723543</td>\n",
              "      <td>6.596307</td>\n",
              "      <td>7.204626</td>\n",
              "      <td>7.325401</td>\n",
              "    </tr>\n",
              "    <tr>\n",
              "      <th>2</th>\n",
              "      <td>3.653099</td>\n",
              "      <td>4.833669</td>\n",
              "      <td>4.843145</td>\n",
              "      <td>4.612521</td>\n",
              "      <td>4.733279</td>\n",
              "    </tr>\n",
              "    <tr>\n",
              "      <th>3</th>\n",
              "      <td>-4.195542</td>\n",
              "      <td>-7.812998</td>\n",
              "      <td>-7.803609</td>\n",
              "      <td>-8.742979</td>\n",
              "      <td>-8.809630</td>\n",
              "    </tr>\n",
              "    <tr>\n",
              "      <th>4</th>\n",
              "      <td>-0.234030</td>\n",
              "      <td>10.927272</td>\n",
              "      <td>13.069275</td>\n",
              "      <td>13.893290</td>\n",
              "      <td>13.717144</td>\n",
              "    </tr>\n",
              "    <tr>\n",
              "      <th>5</th>\n",
              "      <td>-0.278573</td>\n",
              "      <td>16.365057</td>\n",
              "      <td>14.413702</td>\n",
              "      <td>13.848217</td>\n",
              "      <td>13.673552</td>\n",
              "    </tr>\n",
              "    <tr>\n",
              "      <th>6</th>\n",
              "      <td>-4.101756</td>\n",
              "      <td>-7.821475</td>\n",
              "      <td>-7.814809</td>\n",
              "      <td>-7.677439</td>\n",
              "      <td>-7.696436</td>\n",
              "    </tr>\n",
              "    <tr>\n",
              "      <th>7</th>\n",
              "      <td>4.328338</td>\n",
              "      <td>2.748648</td>\n",
              "      <td>2.760417</td>\n",
              "      <td>3.746939</td>\n",
              "      <td>3.697463</td>\n",
              "    </tr>\n",
              "  </tbody>\n",
              "</table>\n",
              "</div>\n",
              "      <button class=\"colab-df-convert\" onclick=\"convertToInteractive('df-679eecfb-b0a8-4b8c-b315-187b4f4b39da')\"\n",
              "              title=\"Convert this dataframe to an interactive table.\"\n",
              "              style=\"display:none;\">\n",
              "        \n",
              "  <svg xmlns=\"http://www.w3.org/2000/svg\" height=\"24px\"viewBox=\"0 0 24 24\"\n",
              "       width=\"24px\">\n",
              "    <path d=\"M0 0h24v24H0V0z\" fill=\"none\"/>\n",
              "    <path d=\"M18.56 5.44l.94 2.06.94-2.06 2.06-.94-2.06-.94-.94-2.06-.94 2.06-2.06.94zm-11 1L8.5 8.5l.94-2.06 2.06-.94-2.06-.94L8.5 2.5l-.94 2.06-2.06.94zm10 10l.94 2.06.94-2.06 2.06-.94-2.06-.94-.94-2.06-.94 2.06-2.06.94z\"/><path d=\"M17.41 7.96l-1.37-1.37c-.4-.4-.92-.59-1.43-.59-.52 0-1.04.2-1.43.59L10.3 9.45l-7.72 7.72c-.78.78-.78 2.05 0 2.83L4 21.41c.39.39.9.59 1.41.59.51 0 1.02-.2 1.41-.59l7.78-7.78 2.81-2.81c.8-.78.8-2.07 0-2.86zM5.41 20L4 18.59l7.72-7.72 1.47 1.35L5.41 20z\"/>\n",
              "  </svg>\n",
              "      </button>\n",
              "      \n",
              "  <style>\n",
              "    .colab-df-container {\n",
              "      display:flex;\n",
              "      flex-wrap:wrap;\n",
              "      gap: 12px;\n",
              "    }\n",
              "\n",
              "    .colab-df-convert {\n",
              "      background-color: #E8F0FE;\n",
              "      border: none;\n",
              "      border-radius: 50%;\n",
              "      cursor: pointer;\n",
              "      display: none;\n",
              "      fill: #1967D2;\n",
              "      height: 32px;\n",
              "      padding: 0 0 0 0;\n",
              "      width: 32px;\n",
              "    }\n",
              "\n",
              "    .colab-df-convert:hover {\n",
              "      background-color: #E2EBFA;\n",
              "      box-shadow: 0px 1px 2px rgba(60, 64, 67, 0.3), 0px 1px 3px 1px rgba(60, 64, 67, 0.15);\n",
              "      fill: #174EA6;\n",
              "    }\n",
              "\n",
              "    [theme=dark] .colab-df-convert {\n",
              "      background-color: #3B4455;\n",
              "      fill: #D2E3FC;\n",
              "    }\n",
              "\n",
              "    [theme=dark] .colab-df-convert:hover {\n",
              "      background-color: #434B5C;\n",
              "      box-shadow: 0px 1px 3px 1px rgba(0, 0, 0, 0.15);\n",
              "      filter: drop-shadow(0px 1px 2px rgba(0, 0, 0, 0.3));\n",
              "      fill: #FFFFFF;\n",
              "    }\n",
              "  </style>\n",
              "\n",
              "      <script>\n",
              "        const buttonEl =\n",
              "          document.querySelector('#df-679eecfb-b0a8-4b8c-b315-187b4f4b39da button.colab-df-convert');\n",
              "        buttonEl.style.display =\n",
              "          google.colab.kernel.accessAllowed ? 'block' : 'none';\n",
              "\n",
              "        async function convertToInteractive(key) {\n",
              "          const element = document.querySelector('#df-679eecfb-b0a8-4b8c-b315-187b4f4b39da');\n",
              "          const dataTable =\n",
              "            await google.colab.kernel.invokeFunction('convertToInteractive',\n",
              "                                                     [key], {});\n",
              "          if (!dataTable) return;\n",
              "\n",
              "          const docLinkHtml = 'Like what you see? Visit the ' +\n",
              "            '<a target=\"_blank\" href=https://colab.research.google.com/notebooks/data_table.ipynb>data table notebook</a>'\n",
              "            + ' to learn more about interactive tables.';\n",
              "          element.innerHTML = '';\n",
              "          dataTable['output_type'] = 'display_data';\n",
              "          await google.colab.output.renderOutput(dataTable, element);\n",
              "          const docLink = document.createElement('div');\n",
              "          docLink.innerHTML = docLinkHtml;\n",
              "          element.appendChild(docLink);\n",
              "        }\n",
              "      </script>\n",
              "    </div>\n",
              "  </div>\n",
              "  "
            ]
          },
          "metadata": {}
        }
      ]
    }
  ]
}